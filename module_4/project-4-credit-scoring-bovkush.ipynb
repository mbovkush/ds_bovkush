{
 "cells": [
  {
   "cell_type": "markdown",
   "id": "confirmed-limitation",
   "metadata": {
    "execution": {
     "iopub.execute_input": "2021-07-05T09:48:26.733516Z",
     "iopub.status.busy": "2021-07-05T09:48:26.733086Z",
     "iopub.status.idle": "2021-07-05T09:48:26.738633Z",
     "shell.execute_reply": "2021-07-05T09:48:26.736974Z",
     "shell.execute_reply.started": "2021-07-05T09:48:26.733480Z"
    },
    "papermill": {
     "duration": 0.050025,
     "end_time": "2021-07-06T13:23:13.509814",
     "exception": false,
     "start_time": "2021-07-06T13:23:13.459789",
     "status": "completed"
    },
    "tags": []
   },
   "source": [
    "# \"Компьютер говорит НЕТ\". Банковский скоринг"
   ]
  },
  {
   "cell_type": "markdown",
   "id": "living-engagement",
   "metadata": {
    "papermill": {
     "duration": 0.047268,
     "end_time": "2021-07-06T13:23:13.604696",
     "exception": false,
     "start_time": "2021-07-06T13:23:13.557428",
     "status": "completed"
    },
    "tags": []
   },
   "source": [
    "## Постановка задачи\n",
    "\n",
    "По данным из датасета, содержащего информацию о банковских клиентах, построить модель, предсказывающую, совершит ли данный заемщик дефолт, для того, чтобы банк мог принимать решение о выдаче кредита данному заемщику. В качестве метрики использовать кривую ROC AUC.\n",
    "\n"
   ]
  },
  {
   "cell_type": "markdown",
   "id": "color-portal",
   "metadata": {
    "papermill": {
     "duration": 0.048954,
     "end_time": "2021-07-06T13:23:13.700802",
     "exception": false,
     "start_time": "2021-07-06T13:23:13.651848",
     "status": "completed"
    },
    "tags": []
   },
   "source": [
    "## Описание полей\n",
    "\n",
    "* client_id - идентификатор клиента\n",
    "* education - уровень образования\n",
    "* sex - пол заемщика\n",
    "* age - возраст заемщика\n",
    "* car - флаг наличия автомобиля\n",
    "* car_type - флаг автомобиля иномарки\n",
    "* decline_app_cnt - количество отказанных прошлых заявок\n",
    "* good_work - флаг наличия “хорошей” работы\n",
    "* bki_request_cnt - количество запросов в БКИ\n",
    "* home_address - категоризатор домашнего адреса\n",
    "* work_address - категоризатор рабочего адреса\n",
    "* income - доход заемщика\n",
    "* foreign_passport - наличие загранпаспорта\n",
    "* sna - связь заемщика с клиентами банка\n",
    "* first_time - давность наличия информации о заемщике\n",
    "* score_bki - скоринговый балл по данным из БКИ\n",
    "* region_rating - рейтинг региона\n",
    "* app_date - дата подачи заявки\n",
    "* default - флаг дефолта по кредиту"
   ]
  },
  {
   "cell_type": "markdown",
   "id": "seasonal-account",
   "metadata": {
    "papermill": {
     "duration": 0.047638,
     "end_time": "2021-07-06T13:23:13.796467",
     "exception": false,
     "start_time": "2021-07-06T13:23:13.748829",
     "status": "completed"
    },
    "tags": []
   },
   "source": [
    "## Загрузка библиотек и файлов"
   ]
  },
  {
   "cell_type": "code",
   "execution_count": 1,
   "id": "tracked-stock",
   "metadata": {
    "_cell_guid": "b1076dfc-b9ad-4769-8c92-a6c4dae69d19",
    "_uuid": "8f2839f25d086af736a60e9eeb907d3b93b6e0e5",
    "execution": {
     "iopub.execute_input": "2021-07-06T13:23:13.897736Z",
     "iopub.status.busy": "2021-07-06T13:23:13.895857Z",
     "iopub.status.idle": "2021-07-06T13:23:16.399511Z",
     "shell.execute_reply": "2021-07-06T13:23:16.398679Z",
     "shell.execute_reply.started": "2021-07-06T13:17:26.662248Z"
    },
    "papermill": {
     "duration": 2.555881,
     "end_time": "2021-07-06T13:23:16.399696",
     "exception": false,
     "start_time": "2021-07-06T13:23:13.843815",
     "status": "completed"
    },
    "tags": []
   },
   "outputs": [
    {
     "name": "stdout",
     "output_type": "stream",
     "text": [
      "/kaggle/input/sf-dst-scoring/sample_submission.csv\n",
      "/kaggle/input/sf-dst-scoring/train.csv\n",
      "/kaggle/input/sf-dst-scoring/test.csv\n"
     ]
    }
   ],
   "source": [
    "# Импортируем библиотеки\n",
    "import pandas as pd\n",
    "from pandas import Series\n",
    "import pandas_profiling\n",
    "import numpy as np\n",
    "\n",
    "import matplotlib.pyplot as plt\n",
    "import seaborn as sns\n",
    "\n",
    "from sklearn.feature_selection import f_classif, mutual_info_classif\n",
    "from sklearn.preprocessing import LabelEncoder, OneHotEncoder, StandardScaler\n",
    "\n",
    "from sklearn.model_selection import train_test_split\n",
    "from sklearn.linear_model import LogisticRegression\n",
    "\n",
    "from sklearn.metrics import confusion_matrix\n",
    "from sklearn.metrics import auc, roc_auc_score, roc_curve, accuracy_score, recall_score, f1_score, mean_absolute_error, mean_squared_error, precision_score\n",
    "\n",
    "import warnings\n",
    "warnings.filterwarnings('ignore')\n",
    "\n",
    "import os\n",
    "for dirname, _, filenames in os.walk('/kaggle/input'):\n",
    "    for filename in filenames:\n",
    "        print(os.path.join(dirname, filename))\n",
    "\n",
    "# You can write up to 20GB to the current directory (/kaggle/working/) that gets preserved as output when you create a version using \"Save & Run All\" \n",
    "# You can also write temporary files to /kaggle/temp/, but they won't be saved outside of the current session"
   ]
  },
  {
   "cell_type": "code",
   "execution_count": 2,
   "id": "classical-phrase",
   "metadata": {
    "execution": {
     "iopub.execute_input": "2021-07-06T13:23:16.502987Z",
     "iopub.status.busy": "2021-07-06T13:23:16.502247Z",
     "iopub.status.idle": "2021-07-06T13:23:16.888656Z",
     "shell.execute_reply": "2021-07-06T13:23:16.887377Z",
     "shell.execute_reply.started": "2021-07-06T13:17:26.862180Z"
    },
    "papermill": {
     "duration": 0.44046,
     "end_time": "2021-07-06T13:23:16.888837",
     "exception": false,
     "start_time": "2021-07-06T13:23:16.448377",
     "status": "completed"
    },
    "tags": []
   },
   "outputs": [],
   "source": [
    "# Импортируем файлы, scr - сокращенно от score\n",
    "DATA_DIR = '/kaggle/input/sf-dst-scoring/'\n",
    "scr_train = pd.read_csv(DATA_DIR + 'train.csv')\n",
    "scr_test = pd.read_csv(DATA_DIR + 'test.csv')\n",
    "sample_submission = pd.read_csv(DATA_DIR + '/sample_submission.csv')"
   ]
  },
  {
   "cell_type": "code",
   "execution_count": 3,
   "id": "automatic-graphics",
   "metadata": {
    "execution": {
     "iopub.execute_input": "2021-07-06T13:23:16.992866Z",
     "iopub.status.busy": "2021-07-06T13:23:16.992088Z",
     "iopub.status.idle": "2021-07-06T13:23:16.995509Z",
     "shell.execute_reply": "2021-07-06T13:23:16.994930Z",
     "shell.execute_reply.started": "2021-07-06T13:17:27.079141Z"
    },
    "papermill": {
     "duration": 0.05866,
     "end_time": "2021-07-06T13:23:16.995665",
     "exception": false,
     "start_time": "2021-07-06T13:23:16.937005",
     "status": "completed"
    },
    "tags": []
   },
   "outputs": [],
   "source": [
    "# Поиск выбросов\n",
    "def outliers(col):\n",
    "    IQR = scr[col].quantile(0.75) - scr[col].quantile(0.25)\n",
    "    perc25 = scr[col].quantile(0.25)\n",
    "    perc75 = scr[col].quantile(0.75)\n",
    "    l = perc25 - 1.5*IQR \n",
    "    r = perc75 + 1.5*IQR\n",
    "    print(\"Для {0} IQR: {1}, \".format(col,IQR),\"Границы выбросов: [{0}, {1}].\".format(l, r))\n",
    "    print('Всего {} выбросов'.format(scr[scr[col] > r][col].count() + scr[scr[col] < l][col].count()))"
   ]
  },
  {
   "cell_type": "markdown",
   "id": "rubber-legislation",
   "metadata": {
    "papermill": {
     "duration": 0.048573,
     "end_time": "2021-07-06T13:23:17.093253",
     "exception": false,
     "start_time": "2021-07-06T13:23:17.044680",
     "status": "completed"
    },
    "tags": []
   },
   "source": [
    "## Первичный осмотр данных"
   ]
  },
  {
   "cell_type": "code",
   "execution_count": 4,
   "id": "synthetic-beads",
   "metadata": {
    "execution": {
     "iopub.execute_input": "2021-07-06T13:23:17.195257Z",
     "iopub.status.busy": "2021-07-06T13:23:17.194544Z",
     "iopub.status.idle": "2021-07-06T13:23:17.201827Z",
     "shell.execute_reply": "2021-07-06T13:23:17.201160Z",
     "shell.execute_reply.started": "2021-07-06T13:17:27.115890Z"
    },
    "papermill": {
     "duration": 0.059916,
     "end_time": "2021-07-06T13:23:17.201982",
     "exception": false,
     "start_time": "2021-07-06T13:23:17.142066",
     "status": "completed"
    },
    "tags": []
   },
   "outputs": [
    {
     "name": "stdout",
     "output_type": "stream",
     "text": [
      "Тренировочный датасет:  (73799, 19) \n",
      "Тестовый датасет:  (36349, 18)\n"
     ]
    }
   ],
   "source": [
    "# Проверим размерность тренировочной и тестовой выборок\n",
    "print('Тренировочный датасет: ', scr_train.shape,'\\nТестовый датасет: ', scr_test.shape)"
   ]
  },
  {
   "cell_type": "code",
   "execution_count": 5,
   "id": "renewable-insertion",
   "metadata": {
    "execution": {
     "iopub.execute_input": "2021-07-06T13:23:17.303550Z",
     "iopub.status.busy": "2021-07-06T13:23:17.302793Z",
     "iopub.status.idle": "2021-07-06T13:23:17.365420Z",
     "shell.execute_reply": "2021-07-06T13:23:17.365984Z",
     "shell.execute_reply.started": "2021-07-06T13:17:27.172688Z"
    },
    "papermill": {
     "duration": 0.114733,
     "end_time": "2021-07-06T13:23:17.366195",
     "exception": false,
     "start_time": "2021-07-06T13:23:17.251462",
     "status": "completed"
    },
    "tags": []
   },
   "outputs": [],
   "source": [
    "# Объединим тренировочную и тестовую выборку\n",
    "scr_train['sample'] = 1 # помечаем где у нас трейн\n",
    "scr_test['sample'] = 0 # помечаем где у нас тест\n",
    "scr_test['default'] = 0 # в тесте у нас нет значения default, мы его должны предсказать, по этому пока просто заполняем нулями\n",
    "\n",
    "scr = scr_test.append(scr_train, sort=False).reset_index(drop=True) # объединяем"
   ]
  },
  {
   "cell_type": "code",
   "execution_count": 6,
   "id": "pediatric-finnish",
   "metadata": {
    "execution": {
     "iopub.execute_input": "2021-07-06T13:23:17.469227Z",
     "iopub.status.busy": "2021-07-06T13:23:17.468285Z",
     "iopub.status.idle": "2021-07-06T13:23:17.556274Z",
     "shell.execute_reply": "2021-07-06T13:23:17.556791Z",
     "shell.execute_reply.started": "2021-07-06T13:17:27.226846Z"
    },
    "papermill": {
     "duration": 0.142526,
     "end_time": "2021-07-06T13:23:17.556982",
     "exception": false,
     "start_time": "2021-07-06T13:23:17.414456",
     "status": "completed"
    },
    "tags": []
   },
   "outputs": [
    {
     "name": "stdout",
     "output_type": "stream",
     "text": [
      "<class 'pandas.core.frame.DataFrame'>\n",
      "RangeIndex: 110148 entries, 0 to 110147\n",
      "Data columns (total 20 columns):\n",
      " #   Column            Non-Null Count   Dtype  \n",
      "---  ------            --------------   -----  \n",
      " 0   client_id         110148 non-null  int64  \n",
      " 1   app_date          110148 non-null  object \n",
      " 2   education         109670 non-null  object \n",
      " 3   sex               110148 non-null  object \n",
      " 4   age               110148 non-null  int64  \n",
      " 5   car               110148 non-null  object \n",
      " 6   car_type          110148 non-null  object \n",
      " 7   decline_app_cnt   110148 non-null  int64  \n",
      " 8   good_work         110148 non-null  int64  \n",
      " 9   score_bki         110148 non-null  float64\n",
      " 10  bki_request_cnt   110148 non-null  int64  \n",
      " 11  region_rating     110148 non-null  int64  \n",
      " 12  home_address      110148 non-null  int64  \n",
      " 13  work_address      110148 non-null  int64  \n",
      " 14  income            110148 non-null  int64  \n",
      " 15  sna               110148 non-null  int64  \n",
      " 16  first_time        110148 non-null  int64  \n",
      " 17  foreign_passport  110148 non-null  object \n",
      " 18  sample            110148 non-null  int64  \n",
      " 19  default           110148 non-null  int64  \n",
      "dtypes: float64(1), int64(13), object(6)\n",
      "memory usage: 16.8+ MB\n"
     ]
    }
   ],
   "source": [
    "scr.info()"
   ]
  },
  {
   "cell_type": "code",
   "execution_count": 7,
   "id": "musical-circular",
   "metadata": {
    "execution": {
     "iopub.execute_input": "2021-07-06T13:23:17.657242Z",
     "iopub.status.busy": "2021-07-06T13:23:17.656533Z",
     "iopub.status.idle": "2021-07-06T13:23:17.659820Z",
     "shell.execute_reply": "2021-07-06T13:23:17.660320Z",
     "shell.execute_reply.started": "2021-07-06T13:17:27.510135Z"
    },
    "papermill": {
     "duration": 0.054794,
     "end_time": "2021-07-06T13:23:17.660510",
     "exception": false,
     "start_time": "2021-07-06T13:23:17.605716",
     "status": "completed"
    },
    "tags": []
   },
   "outputs": [],
   "source": [
    "# С помощью pandas_profiling выполним экпресс-EDA\n",
    "# scr_profile = scr.profile_report()\n",
    "# scr_profile.to_file(\"scoring_profile.html\")"
   ]
  },
  {
   "cell_type": "markdown",
   "id": "phantom-extraction",
   "metadata": {
    "papermill": {
     "duration": 0.048967,
     "end_time": "2021-07-06T13:23:17.758579",
     "exception": false,
     "start_time": "2021-07-06T13:23:17.709612",
     "status": "completed"
    },
    "tags": []
   },
   "source": [
    "#### Ссылка на профайл **[scr_profile.html](./scoring_profile.html)**."
   ]
  },
  {
   "cell_type": "markdown",
   "id": "incident-throw",
   "metadata": {
    "papermill": {
     "duration": 0.04826,
     "end_time": "2021-07-06T13:23:17.855659",
     "exception": false,
     "start_time": "2021-07-06T13:23:17.807399",
     "status": "completed"
    },
    "tags": []
   },
   "source": [
    "Выводы по профайлу.\n",
    "(Интересно было посмотреть, как профайл автоматически сделал то, что в подготовительной части проекта мы делали вручную)\n",
    "\n",
    "Имеем три вида данных: числовые, категориальные, бинарные.\n",
    "\n",
    "Пропущенные значения имеются только в колонке education. Распределение данных по колонке показывает, что большинство заемщиков не имеют высшего образования.\n",
    "\n",
    "Заемщиков женского пола заметно больше, чем заемщиков мужского пола.\n",
    "\n",
    "Минимальный возраст заемщиков 21 год, средний 39 лет, максимальный 72 года. Чем выше возраст, тем меньше заемщиков, что логично, потому что пожилые люди реже берут кредиты.\n",
    "\n",
    "В большинстве случаев машины у заемщика нет.\n",
    "\n",
    "Чаще всего у заемщиков было 0 отказов, но это, очевидно, связано с тем, что далее по анализу мы видим, что дефолтных клиентов значительно меньше. Максимальное число отказов - 33, надо проверить на выбросы.\n",
    "\n",
    "Трудно понять, что имеется в виду под \"good work\", у большинства значений флаг 0, будем пробовать по-другому визуализировать данные.\n",
    "\n",
    "Скоринговый балл (показатель платежеспособности клиента) принимает как отрицательные, так и положительные значения, значения имеют нормальный вид распределения.\n",
    "\n",
    "Надо внимательнее посмотреть на region_rating, изучить на предмет выборосов.\n",
    "\n",
    "Гистограмма доходов смещена влево.\n",
    "\n",
    "Распределение данных в колонке default сразу дает представление о дисбалансе выборки (не дефолтных значительно больше, чем дефолтных), следовательно будем думать, как с этим работать."
   ]
  },
  {
   "cell_type": "code",
   "execution_count": 8,
   "id": "numerical-detector",
   "metadata": {
    "execution": {
     "iopub.execute_input": "2021-07-06T13:23:17.955837Z",
     "iopub.status.busy": "2021-07-06T13:23:17.955096Z",
     "iopub.status.idle": "2021-07-06T13:23:18.032772Z",
     "shell.execute_reply": "2021-07-06T13:23:18.033265Z",
     "shell.execute_reply.started": "2021-07-06T13:17:27.708247Z"
    },
    "papermill": {
     "duration": 0.129551,
     "end_time": "2021-07-06T13:23:18.033460",
     "exception": false,
     "start_time": "2021-07-06T13:23:17.903909",
     "status": "completed"
    },
    "tags": []
   },
   "outputs": [
    {
     "data": {
      "text/plain": [
       "client_id             0\n",
       "app_date              0\n",
       "education           478\n",
       "sex                   0\n",
       "age                   0\n",
       "car                   0\n",
       "car_type              0\n",
       "decline_app_cnt       0\n",
       "good_work             0\n",
       "score_bki             0\n",
       "bki_request_cnt       0\n",
       "region_rating         0\n",
       "home_address          0\n",
       "work_address          0\n",
       "income                0\n",
       "sna                   0\n",
       "first_time            0\n",
       "foreign_passport      0\n",
       "sample                0\n",
       "default               0\n",
       "dtype: int64"
      ]
     },
     "execution_count": 8,
     "metadata": {},
     "output_type": "execute_result"
    }
   ],
   "source": [
    "# Перепроверим количество пропусков по колонкам\n",
    "scr.isna().sum()"
   ]
  },
  {
   "cell_type": "markdown",
   "id": "future-methodology",
   "metadata": {
    "papermill": {
     "duration": 0.049079,
     "end_time": "2021-07-06T13:23:18.132620",
     "exception": false,
     "start_time": "2021-07-06T13:23:18.083541",
     "status": "completed"
    },
    "tags": []
   },
   "source": [
    "## Обработка пропусков"
   ]
  },
  {
   "cell_type": "code",
   "execution_count": 9,
   "id": "coastal-worthy",
   "metadata": {
    "execution": {
     "iopub.execute_input": "2021-07-06T13:23:18.239232Z",
     "iopub.status.busy": "2021-07-06T13:23:18.238527Z",
     "iopub.status.idle": "2021-07-06T13:23:25.869955Z",
     "shell.execute_reply": "2021-07-06T13:23:25.869337Z",
     "shell.execute_reply.started": "2021-07-06T13:17:27.784898Z"
    },
    "papermill": {
     "duration": 7.685618,
     "end_time": "2021-07-06T13:23:25.870098",
     "exception": false,
     "start_time": "2021-07-06T13:23:18.184480",
     "status": "completed"
    },
    "tags": []
   },
   "outputs": [],
   "source": [
    "# Заменим пропуски в данных модой\n",
    "scr['education'] = scr['education'].apply(lambda x: scr['education'].mode()[0]\n",
    "                       if pd.isnull(x) == True else x)"
   ]
  },
  {
   "cell_type": "code",
   "execution_count": 10,
   "id": "basic-yukon",
   "metadata": {
    "execution": {
     "iopub.execute_input": "2021-07-06T13:23:26.006699Z",
     "iopub.status.busy": "2021-07-06T13:23:26.005975Z",
     "iopub.status.idle": "2021-07-06T13:23:26.049673Z",
     "shell.execute_reply": "2021-07-06T13:23:26.049124Z",
     "shell.execute_reply.started": "2021-07-06T13:17:34.756675Z"
    },
    "papermill": {
     "duration": 0.130296,
     "end_time": "2021-07-06T13:23:26.049822",
     "exception": false,
     "start_time": "2021-07-06T13:23:25.919526",
     "status": "completed"
    },
    "tags": []
   },
   "outputs": [
    {
     "data": {
      "text/plain": [
       "client_id           0\n",
       "app_date            0\n",
       "education           0\n",
       "sex                 0\n",
       "age                 0\n",
       "car                 0\n",
       "car_type            0\n",
       "decline_app_cnt     0\n",
       "good_work           0\n",
       "score_bki           0\n",
       "bki_request_cnt     0\n",
       "region_rating       0\n",
       "home_address        0\n",
       "work_address        0\n",
       "income              0\n",
       "sna                 0\n",
       "first_time          0\n",
       "foreign_passport    0\n",
       "sample              0\n",
       "default             0\n",
       "dtype: int64"
      ]
     },
     "execution_count": 10,
     "metadata": {},
     "output_type": "execute_result"
    }
   ],
   "source": [
    "# Проверим результат замены\n",
    "scr.isna().sum()"
   ]
  },
  {
   "cell_type": "markdown",
   "id": "imposed-insured",
   "metadata": {
    "papermill": {
     "duration": 0.049954,
     "end_time": "2021-07-06T13:23:26.150466",
     "exception": false,
     "start_time": "2021-07-06T13:23:26.100512",
     "status": "completed"
    },
    "tags": []
   },
   "source": [
    "## Опишем переменные"
   ]
  },
  {
   "cell_type": "markdown",
   "id": "lucky-citizen",
   "metadata": {
    "execution": {
     "iopub.execute_input": "2021-07-05T11:46:15.337558Z",
     "iopub.status.busy": "2021-07-05T11:46:15.337116Z",
     "iopub.status.idle": "2021-07-05T11:46:15.346955Z",
     "shell.execute_reply": "2021-07-05T11:46:15.345138Z",
     "shell.execute_reply.started": "2021-07-05T11:46:15.337517Z"
    },
    "papermill": {
     "duration": 0.048728,
     "end_time": "2021-07-06T13:23:26.248398",
     "exception": false,
     "start_time": "2021-07-06T13:23:26.199670",
     "status": "completed"
    },
    "tags": []
   },
   "source": [
    "Так как мы не можем построить модель, не преобразовав дату в удобоваримый вид, проведем сначала обработку этой колонки."
   ]
  },
  {
   "cell_type": "code",
   "execution_count": 11,
   "id": "corrected-angola",
   "metadata": {
    "execution": {
     "iopub.execute_input": "2021-07-06T13:23:26.361231Z",
     "iopub.status.busy": "2021-07-06T13:23:26.360427Z",
     "iopub.status.idle": "2021-07-06T13:23:26.402552Z",
     "shell.execute_reply": "2021-07-06T13:23:26.401879Z",
     "shell.execute_reply.started": "2021-07-06T13:17:34.830794Z"
    },
    "papermill": {
     "duration": 0.103954,
     "end_time": "2021-07-06T13:23:26.402702",
     "exception": false,
     "start_time": "2021-07-06T13:23:26.298748",
     "status": "completed"
    },
    "tags": []
   },
   "outputs": [
    {
     "data": {
      "text/plain": [
       "26626   2014-03-29\n",
       "17291   2014-04-24\n",
       "60527   2014-04-17\n",
       "20112   2014-02-26\n",
       "25906   2014-02-10\n",
       "Name: app_date, dtype: datetime64[ns]"
      ]
     },
     "metadata": {},
     "output_type": "display_data"
    }
   ],
   "source": [
    "# Переформатируем значения\n",
    "scr.app_date = pd.to_datetime(scr.app_date)\n",
    "display(scr.app_date.sample(5))"
   ]
  },
  {
   "cell_type": "code",
   "execution_count": 12,
   "id": "introductory-orange",
   "metadata": {
    "execution": {
     "iopub.execute_input": "2021-07-06T13:23:26.507271Z",
     "iopub.status.busy": "2021-07-06T13:23:26.506582Z",
     "iopub.status.idle": "2021-07-06T13:23:26.511347Z",
     "shell.execute_reply": "2021-07-06T13:23:26.511856Z",
     "shell.execute_reply.started": "2021-07-06T13:17:34.878598Z"
    },
    "papermill": {
     "duration": 0.059818,
     "end_time": "2021-07-06T13:23:26.512024",
     "exception": false,
     "start_time": "2021-07-06T13:23:26.452206",
     "status": "completed"
    },
    "tags": []
   },
   "outputs": [
    {
     "name": "stdout",
     "output_type": "stream",
     "text": [
      "Начало периода: 2014-01-01 00:00:00 \n",
      "Конец периода: 2014-04-30 00:00:00\n"
     ]
    }
   ],
   "source": [
    "# Проанализируем период, за который нам предоставлены данные\n",
    "print(\"Начало периода:\", scr.app_date.min(),\"\\nКонец периода:\", scr.app_date.max())"
   ]
  },
  {
   "cell_type": "code",
   "execution_count": 13,
   "id": "contrary-matrix",
   "metadata": {
    "execution": {
     "iopub.execute_input": "2021-07-06T13:23:26.615610Z",
     "iopub.status.busy": "2021-07-06T13:23:26.614919Z",
     "iopub.status.idle": "2021-07-06T13:23:26.635212Z",
     "shell.execute_reply": "2021-07-06T13:23:26.635722Z",
     "shell.execute_reply.started": "2021-07-06T13:17:34.888138Z"
    },
    "papermill": {
     "duration": 0.073576,
     "end_time": "2021-07-06T13:23:26.635917",
     "exception": false,
     "start_time": "2021-07-06T13:23:26.562341",
     "status": "completed"
    },
    "tags": []
   },
   "outputs": [
    {
     "data": {
      "text/plain": [
       "array([2014])"
      ]
     },
     "execution_count": 13,
     "metadata": {},
     "output_type": "execute_result"
    }
   ],
   "source": [
    "# Дополнительно убедимся, что год везде один\n",
    "scr.app_date.dt.year.unique()"
   ]
  },
  {
   "cell_type": "markdown",
   "id": "proof-reservoir",
   "metadata": {
    "papermill": {
     "duration": 0.051297,
     "end_time": "2021-07-06T13:23:26.738129",
     "exception": false,
     "start_time": "2021-07-06T13:23:26.686832",
     "status": "completed"
    },
    "tags": []
   },
   "source": [
    "Имеем данные за 4 первых месяца 2014 года, далее не будем рассматривать год как самостоятельный признак. Из того, что мы знаем из курса и предыдущего проекта, целесообразно посмотреть отдельно день, месяц, день недели и количество дней, прошедших с момента начала наблюдения."
   ]
  },
  {
   "cell_type": "code",
   "execution_count": 14,
   "id": "tracked-effort",
   "metadata": {
    "execution": {
     "iopub.execute_input": "2021-07-06T13:23:26.845165Z",
     "iopub.status.busy": "2021-07-06T13:23:26.844138Z",
     "iopub.status.idle": "2021-07-06T13:23:26.893564Z",
     "shell.execute_reply": "2021-07-06T13:23:26.894035Z",
     "shell.execute_reply.started": "2021-07-06T13:17:34.914690Z"
    },
    "papermill": {
     "duration": 0.103918,
     "end_time": "2021-07-06T13:23:26.894221",
     "exception": false,
     "start_time": "2021-07-06T13:23:26.790303",
     "status": "completed"
    },
    "tags": []
   },
   "outputs": [],
   "source": [
    "# Создаем новые признаки\n",
    "scr['app_day'] = scr.app_date.dt.day # день месяца\n",
    "scr['app_month'] = scr.app_date.dt.month # месяц\n",
    "scr['app_weekday'] = scr.app_date.dt.weekday # день недели\n",
    "scr['days'] = (scr.app_date - scr.app_date.min()).dt.days # количество дней"
   ]
  },
  {
   "cell_type": "code",
   "execution_count": 15,
   "id": "conservative-seafood",
   "metadata": {
    "execution": {
     "iopub.execute_input": "2021-07-06T13:23:27.007908Z",
     "iopub.status.busy": "2021-07-06T13:23:27.005740Z",
     "iopub.status.idle": "2021-07-06T13:23:27.048627Z",
     "shell.execute_reply": "2021-07-06T13:23:27.048035Z",
     "shell.execute_reply.started": "2021-07-06T13:17:34.966708Z"
    },
    "papermill": {
     "duration": 0.102503,
     "end_time": "2021-07-06T13:23:27.048802",
     "exception": false,
     "start_time": "2021-07-06T13:23:26.946299",
     "status": "completed"
    },
    "tags": []
   },
   "outputs": [],
   "source": [
    "# Столбец даты больше не нужен в изначальном виде, удалим его\n",
    "scr.drop(['app_date'], axis = 1, inplace = True)"
   ]
  },
  {
   "cell_type": "code",
   "execution_count": 16,
   "id": "strange-transparency",
   "metadata": {
    "execution": {
     "iopub.execute_input": "2021-07-06T13:23:27.157586Z",
     "iopub.status.busy": "2021-07-06T13:23:27.156866Z",
     "iopub.status.idle": "2021-07-06T13:23:27.226342Z",
     "shell.execute_reply": "2021-07-06T13:23:27.227464Z",
     "shell.execute_reply.started": "2021-07-06T13:17:34.995742Z"
    },
    "papermill": {
     "duration": 0.126785,
     "end_time": "2021-07-06T13:23:27.227689",
     "exception": false,
     "start_time": "2021-07-06T13:23:27.100904",
     "status": "completed"
    },
    "tags": []
   },
   "outputs": [
    {
     "name": "stdout",
     "output_type": "stream",
     "text": [
      "<class 'pandas.core.frame.DataFrame'>\n",
      "RangeIndex: 110148 entries, 0 to 110147\n",
      "Data columns (total 23 columns):\n",
      " #   Column            Non-Null Count   Dtype  \n",
      "---  ------            --------------   -----  \n",
      " 0   client_id         110148 non-null  int64  \n",
      " 1   education         110148 non-null  object \n",
      " 2   sex               110148 non-null  object \n",
      " 3   age               110148 non-null  int64  \n",
      " 4   car               110148 non-null  object \n",
      " 5   car_type          110148 non-null  object \n",
      " 6   decline_app_cnt   110148 non-null  int64  \n",
      " 7   good_work         110148 non-null  int64  \n",
      " 8   score_bki         110148 non-null  float64\n",
      " 9   bki_request_cnt   110148 non-null  int64  \n",
      " 10  region_rating     110148 non-null  int64  \n",
      " 11  home_address      110148 non-null  int64  \n",
      " 12  work_address      110148 non-null  int64  \n",
      " 13  income            110148 non-null  int64  \n",
      " 14  sna               110148 non-null  int64  \n",
      " 15  first_time        110148 non-null  int64  \n",
      " 16  foreign_passport  110148 non-null  object \n",
      " 17  sample            110148 non-null  int64  \n",
      " 18  default           110148 non-null  int64  \n",
      " 19  app_day           110148 non-null  int64  \n",
      " 20  app_month         110148 non-null  int64  \n",
      " 21  app_weekday       110148 non-null  int64  \n",
      " 22  days              110148 non-null  int64  \n",
      "dtypes: float64(1), int64(17), object(5)\n",
      "memory usage: 19.3+ MB\n"
     ]
    }
   ],
   "source": [
    "# Проверим номера колонок\n",
    "scr.info()"
   ]
  },
  {
   "cell_type": "code",
   "execution_count": 17,
   "id": "enabling-mountain",
   "metadata": {
    "execution": {
     "iopub.execute_input": "2021-07-06T13:23:27.356716Z",
     "iopub.status.busy": "2021-07-06T13:23:27.355989Z",
     "iopub.status.idle": "2021-07-06T13:23:28.236995Z",
     "shell.execute_reply": "2021-07-06T13:23:28.237531Z",
     "shell.execute_reply.started": "2021-07-06T13:17:35.071940Z"
    },
    "papermill": {
     "duration": 0.959051,
     "end_time": "2021-07-06T13:23:28.237939",
     "exception": false,
     "start_time": "2021-07-06T13:23:27.278888",
     "status": "completed"
    },
    "tags": []
   },
   "outputs": [
    {
     "data": {
      "image/png": "[encoded data removed]",
      "text/plain": [
       "<Figure size 432x288 with 1 Axes>"
      ]
     },
     "metadata": {
      "needs_background": "light"
     },
     "output_type": "display_data"
    },
    {
     "data": {
      "image/png": "[encoded data removed]",
      "text/plain": [
       "<Figure size 432x288 with 1 Axes>"
      ]
     },
     "metadata": {
      "needs_background": "light"
     },
     "output_type": "display_data"
    },
    {
     "data": {
      "image/png": "[encoded data removed]",
      "text/plain": [
       "<Figure size 432x288 with 1 Axes>"
      ]
     },
     "metadata": {
      "needs_background": "light"
     },
     "output_type": "display_data"
    }
   ],
   "source": [
    "# Посмотрим гистограммы по новым признакам\n",
    "for col in scr.iloc[:,19:22].columns:\n",
    "    sns.countplot(x = scr[col], data = scr)\n",
    "    plt.show()"
   ]
  },
  {
   "cell_type": "code",
   "execution_count": 18,
   "id": "front-islam",
   "metadata": {
    "execution": {
     "iopub.execute_input": "2021-07-06T13:23:28.354653Z",
     "iopub.status.busy": "2021-07-06T13:23:28.351260Z",
     "iopub.status.idle": "2021-07-06T13:23:28.667995Z",
     "shell.execute_reply": "2021-07-06T13:23:28.667323Z",
     "shell.execute_reply.started": "2021-07-06T13:17:35.931796Z"
    },
    "papermill": {
     "duration": 0.375223,
     "end_time": "2021-07-06T13:23:28.668140",
     "exception": false,
     "start_time": "2021-07-06T13:23:28.292917",
     "status": "completed"
    },
    "tags": []
   },
   "outputs": [
    {
     "data": {
      "text/plain": [
       "<AxesSubplot:>"
      ]
     },
     "execution_count": 18,
     "metadata": {},
     "output_type": "execute_result"
    },
    {
     "data": {
      "image/png": "[encoded data removed]",
      "text/plain": [
       "<Figure size 720x360 with 2 Axes>"
      ]
     },
     "metadata": {
      "needs_background": "light"
     },
     "output_type": "display_data"
    }
   ],
   "source": [
    "# Оценим новые признаки с помощью матрицы корреляции \n",
    "plt.figure(figsize=(10,5))\n",
    "sns.heatmap(scr.iloc[:,19:].corr(), annot=True)"
   ]
  },
  {
   "cell_type": "code",
   "execution_count": 19,
   "id": "early-cross",
   "metadata": {
    "execution": {
     "iopub.execute_input": "2021-07-06T13:23:28.786035Z",
     "iopub.status.busy": "2021-07-06T13:23:28.785247Z",
     "iopub.status.idle": "2021-07-06T13:23:28.793039Z",
     "shell.execute_reply": "2021-07-06T13:23:28.793625Z",
     "shell.execute_reply.started": "2021-07-06T13:17:36.275711Z"
    },
    "papermill": {
     "duration": 0.071616,
     "end_time": "2021-07-06T13:23:28.793804",
     "exception": false,
     "start_time": "2021-07-06T13:23:28.722188",
     "status": "completed"
    },
    "tags": []
   },
   "outputs": [],
   "source": [
    "# Увидели, что признаки app_month и app_day имеют корреляцию, близкую к 1\n",
    "# Удалим app_month как избыточный\n",
    "scr.drop(['app_month'], axis = 1, inplace = True)"
   ]
  },
  {
   "cell_type": "markdown",
   "id": "interpreted-ballet",
   "metadata": {
    "papermill": {
     "duration": 0.054128,
     "end_time": "2021-07-06T13:23:28.902322",
     "exception": false,
     "start_time": "2021-07-06T13:23:28.848194",
     "status": "completed"
    },
    "tags": []
   },
   "source": [
    "## Списки колонок"
   ]
  },
  {
   "cell_type": "code",
   "execution_count": 20,
   "id": "moved-gibson",
   "metadata": {
    "execution": {
     "iopub.execute_input": "2021-07-06T13:23:29.018749Z",
     "iopub.status.busy": "2021-07-06T13:23:29.017961Z",
     "iopub.status.idle": "2021-07-06T13:23:29.020839Z",
     "shell.execute_reply": "2021-07-06T13:23:29.020179Z",
     "shell.execute_reply.started": "2021-07-06T13:17:36.292221Z"
    },
    "papermill": {
     "duration": 0.063576,
     "end_time": "2021-07-06T13:23:29.020983",
     "exception": false,
     "start_time": "2021-07-06T13:23:28.957407",
     "status": "completed"
    },
    "tags": []
   },
   "outputs": [],
   "source": [
    "# бинарные переменные\n",
    "bin_cols = ['sex', 'car', 'car_type', 'good_work', 'foreign_passport']\n",
    "\n",
    "# категориальные переменные\n",
    "cat_cols = [\n",
    "    'education', \n",
    "    'region_rating', \n",
    "    'home_address', \n",
    "    'work_address', \n",
    "    'sna', \n",
    "    'first_time', \n",
    "    'app_weekday'\n",
    "]\n",
    "\n",
    "# числовые переменные\n",
    "num_cols = [\n",
    "    'age', \n",
    "    'decline_app_cnt', \n",
    "    'score_bki', \n",
    "    'bki_request_cnt', \n",
    "    'income', \n",
    "    'app_day', \n",
    "    'days'\n",
    "]"
   ]
  },
  {
   "cell_type": "code",
   "execution_count": 21,
   "id": "exterior-integer",
   "metadata": {
    "execution": {
     "iopub.execute_input": "2021-07-06T13:23:29.176091Z",
     "iopub.status.busy": "2021-07-06T13:23:29.175302Z",
     "iopub.status.idle": "2021-07-06T13:23:29.315462Z",
     "shell.execute_reply": "2021-07-06T13:23:29.316257Z",
     "shell.execute_reply.started": "2021-07-06T13:17:36.305831Z"
    },
    "papermill": {
     "duration": 0.240613,
     "end_time": "2021-07-06T13:23:29.316516",
     "exception": false,
     "start_time": "2021-07-06T13:23:29.075903",
     "status": "completed"
    },
    "tags": []
   },
   "outputs": [
    {
     "name": "stdout",
     "output_type": "stream",
     "text": [
      "sex {0: 'F', 1: 'M'}\n",
      "car {0: 'N', 1: 'Y'}\n",
      "car_type {0: 'N', 1: 'Y'}\n",
      "good_work {0: 0, 1: 1}\n",
      "foreign_passport {0: 'N', 1: 'Y'}\n"
     ]
    }
   ],
   "source": [
    "# Нам рекомендовано посмотреть наивную модель, поэтому сразу преобразуем бинарные переменные в 0 и 1\n",
    "# Используем LabelEncoder\n",
    "# Выведем на всякий случай словари значений\n",
    "label_encoder = LabelEncoder()\n",
    "\n",
    "for column in bin_cols:\n",
    "    \n",
    "    scr[column] = label_encoder.fit_transform(scr[column])\n",
    "    print(column,dict(enumerate(label_encoder.classes_)))"
   ]
  },
  {
   "cell_type": "code",
   "execution_count": 22,
   "id": "every-nevada",
   "metadata": {
    "execution": {
     "iopub.execute_input": "2021-07-06T13:23:29.449333Z",
     "iopub.status.busy": "2021-07-06T13:23:29.448318Z",
     "iopub.status.idle": "2021-07-06T13:23:29.531074Z",
     "shell.execute_reply": "2021-07-06T13:23:29.530237Z",
     "shell.execute_reply.started": "2021-07-06T13:17:36.481537Z"
    },
    "papermill": {
     "duration": 0.157073,
     "end_time": "2021-07-06T13:23:29.531245",
     "exception": false,
     "start_time": "2021-07-06T13:23:29.374172",
     "status": "completed"
    },
    "tags": []
   },
   "outputs": [],
   "source": [
    "# Закодируем категории образования\n",
    "ed_dict = {'SCH': 0, 'UGR': 1, 'GRD': 2, 'PGR': 3, 'ACD': 4}\n",
    "scr['education'] = scr['education'].replace(ed_dict)"
   ]
  },
  {
   "cell_type": "code",
   "execution_count": 23,
   "id": "stuck-funds",
   "metadata": {
    "execution": {
     "iopub.execute_input": "2021-07-06T13:23:29.652009Z",
     "iopub.status.busy": "2021-07-06T13:23:29.651277Z",
     "iopub.status.idle": "2021-07-06T13:23:29.676467Z",
     "shell.execute_reply": "2021-07-06T13:23:29.675812Z",
     "shell.execute_reply.started": "2021-07-06T13:17:36.574991Z"
    },
    "papermill": {
     "duration": 0.09003,
     "end_time": "2021-07-06T13:23:29.676644",
     "exception": false,
     "start_time": "2021-07-06T13:23:29.586614",
     "status": "completed"
    },
    "tags": []
   },
   "outputs": [
    {
     "data": {
      "text/html": [
       "<div>\n",
       "<style scoped>\n",
       "    .dataframe tbody tr th:only-of-type {\n",
       "        vertical-align: middle;\n",
       "    }\n",
       "\n",
       "    .dataframe tbody tr th {\n",
       "        vertical-align: top;\n",
       "    }\n",
       "\n",
       "    .dataframe thead th {\n",
       "        text-align: right;\n",
       "    }\n",
       "</style>\n",
       "<table border=\"1\" class=\"dataframe\">\n",
       "  <thead>\n",
       "    <tr style=\"text-align: right;\">\n",
       "      <th></th>\n",
       "      <th>client_id</th>\n",
       "      <th>education</th>\n",
       "      <th>sex</th>\n",
       "      <th>age</th>\n",
       "      <th>car</th>\n",
       "      <th>car_type</th>\n",
       "      <th>decline_app_cnt</th>\n",
       "      <th>good_work</th>\n",
       "      <th>score_bki</th>\n",
       "      <th>bki_request_cnt</th>\n",
       "      <th>...</th>\n",
       "      <th>work_address</th>\n",
       "      <th>income</th>\n",
       "      <th>sna</th>\n",
       "      <th>first_time</th>\n",
       "      <th>foreign_passport</th>\n",
       "      <th>sample</th>\n",
       "      <th>default</th>\n",
       "      <th>app_day</th>\n",
       "      <th>app_weekday</th>\n",
       "      <th>days</th>\n",
       "    </tr>\n",
       "  </thead>\n",
       "  <tbody>\n",
       "    <tr>\n",
       "      <th>0</th>\n",
       "      <td>74835</td>\n",
       "      <td>2</td>\n",
       "      <td>1</td>\n",
       "      <td>29</td>\n",
       "      <td>1</td>\n",
       "      <td>1</td>\n",
       "      <td>0</td>\n",
       "      <td>0</td>\n",
       "      <td>-2.271884</td>\n",
       "      <td>3</td>\n",
       "      <td>...</td>\n",
       "      <td>2</td>\n",
       "      <td>50000</td>\n",
       "      <td>1</td>\n",
       "      <td>4</td>\n",
       "      <td>0</td>\n",
       "      <td>0</td>\n",
       "      <td>0</td>\n",
       "      <td>22</td>\n",
       "      <td>5</td>\n",
       "      <td>80</td>\n",
       "    </tr>\n",
       "    <tr>\n",
       "      <th>1</th>\n",
       "      <td>17527</td>\n",
       "      <td>0</td>\n",
       "      <td>0</td>\n",
       "      <td>39</td>\n",
       "      <td>0</td>\n",
       "      <td>0</td>\n",
       "      <td>5</td>\n",
       "      <td>0</td>\n",
       "      <td>-1.504999</td>\n",
       "      <td>2</td>\n",
       "      <td>...</td>\n",
       "      <td>2</td>\n",
       "      <td>5000</td>\n",
       "      <td>4</td>\n",
       "      <td>3</td>\n",
       "      <td>0</td>\n",
       "      <td>0</td>\n",
       "      <td>0</td>\n",
       "      <td>24</td>\n",
       "      <td>4</td>\n",
       "      <td>23</td>\n",
       "    </tr>\n",
       "    <tr>\n",
       "      <th>2</th>\n",
       "      <td>75683</td>\n",
       "      <td>1</td>\n",
       "      <td>1</td>\n",
       "      <td>50</td>\n",
       "      <td>1</td>\n",
       "      <td>1</td>\n",
       "      <td>0</td>\n",
       "      <td>0</td>\n",
       "      <td>-1.691339</td>\n",
       "      <td>1</td>\n",
       "      <td>...</td>\n",
       "      <td>2</td>\n",
       "      <td>30000</td>\n",
       "      <td>1</td>\n",
       "      <td>3</td>\n",
       "      <td>1</td>\n",
       "      <td>0</td>\n",
       "      <td>0</td>\n",
       "      <td>23</td>\n",
       "      <td>6</td>\n",
       "      <td>81</td>\n",
       "    </tr>\n",
       "    <tr>\n",
       "      <th>3</th>\n",
       "      <td>26883</td>\n",
       "      <td>0</td>\n",
       "      <td>1</td>\n",
       "      <td>56</td>\n",
       "      <td>0</td>\n",
       "      <td>0</td>\n",
       "      <td>0</td>\n",
       "      <td>0</td>\n",
       "      <td>-2.374182</td>\n",
       "      <td>1</td>\n",
       "      <td>...</td>\n",
       "      <td>2</td>\n",
       "      <td>17000</td>\n",
       "      <td>1</td>\n",
       "      <td>3</td>\n",
       "      <td>0</td>\n",
       "      <td>0</td>\n",
       "      <td>0</td>\n",
       "      <td>3</td>\n",
       "      <td>0</td>\n",
       "      <td>33</td>\n",
       "    </tr>\n",
       "    <tr>\n",
       "      <th>4</th>\n",
       "      <td>28862</td>\n",
       "      <td>2</td>\n",
       "      <td>0</td>\n",
       "      <td>38</td>\n",
       "      <td>0</td>\n",
       "      <td>0</td>\n",
       "      <td>0</td>\n",
       "      <td>0</td>\n",
       "      <td>-2.487502</td>\n",
       "      <td>0</td>\n",
       "      <td>...</td>\n",
       "      <td>3</td>\n",
       "      <td>120000</td>\n",
       "      <td>1</td>\n",
       "      <td>3</td>\n",
       "      <td>0</td>\n",
       "      <td>0</td>\n",
       "      <td>0</td>\n",
       "      <td>4</td>\n",
       "      <td>1</td>\n",
       "      <td>34</td>\n",
       "    </tr>\n",
       "  </tbody>\n",
       "</table>\n",
       "<p>5 rows × 22 columns</p>\n",
       "</div>"
      ],
      "text/plain": [
       "   client_id  education  sex  age  car  car_type  decline_app_cnt  good_work  \\\n",
       "0      74835          2    1   29    1         1                0          0   \n",
       "1      17527          0    0   39    0         0                5          0   \n",
       "2      75683          1    1   50    1         1                0          0   \n",
       "3      26883          0    1   56    0         0                0          0   \n",
       "4      28862          2    0   38    0         0                0          0   \n",
       "\n",
       "   score_bki  bki_request_cnt  ...  work_address  income  sna  first_time  \\\n",
       "0  -2.271884                3  ...             2   50000    1           4   \n",
       "1  -1.504999                2  ...             2    5000    4           3   \n",
       "2  -1.691339                1  ...             2   30000    1           3   \n",
       "3  -2.374182                1  ...             2   17000    1           3   \n",
       "4  -2.487502                0  ...             3  120000    1           3   \n",
       "\n",
       "   foreign_passport  sample  default  app_day  app_weekday  days  \n",
       "0                 0       0        0       22            5    80  \n",
       "1                 0       0        0       24            4    23  \n",
       "2                 1       0        0       23            6    81  \n",
       "3                 0       0        0        3            0    33  \n",
       "4                 0       0        0        4            1    34  \n",
       "\n",
       "[5 rows x 22 columns]"
      ]
     },
     "execution_count": 23,
     "metadata": {},
     "output_type": "execute_result"
    }
   ],
   "source": [
    "# убедимся в преобразовании    \n",
    "scr.head()"
   ]
  },
  {
   "cell_type": "markdown",
   "id": "directed-settle",
   "metadata": {
    "papermill": {
     "duration": 0.058699,
     "end_time": "2021-07-06T13:23:29.791876",
     "exception": false,
     "start_time": "2021-07-06T13:23:29.733177",
     "status": "completed"
    },
    "tags": []
   },
   "source": [
    "## Наивная модель"
   ]
  },
  {
   "cell_type": "code",
   "execution_count": 24,
   "id": "approved-egyptian",
   "metadata": {
    "execution": {
     "iopub.execute_input": "2021-07-06T13:23:29.911122Z",
     "iopub.status.busy": "2021-07-06T13:23:29.910049Z",
     "iopub.status.idle": "2021-07-06T13:23:29.998008Z",
     "shell.execute_reply": "2021-07-06T13:23:29.997446Z",
     "shell.execute_reply.started": "2021-07-06T13:17:36.601529Z"
    },
    "papermill": {
     "duration": 0.149777,
     "end_time": "2021-07-06T13:23:29.998168",
     "exception": false,
     "start_time": "2021-07-06T13:23:29.848391",
     "status": "completed"
    },
    "tags": []
   },
   "outputs": [],
   "source": [
    "# \n",
    "scr_train_n = scr.query('sample == 1').drop(['sample'], axis = 1)\n",
    "scr_test_n = scr.query('sample == 0').drop(['sample'], axis = 1)\n",
    "\n",
    "X = scr_train_n.drop(['default'], axis = 1).values\n",
    "Y = scr_train_n['default'].values\n",
    "X_train, X_test, y_train, y_test = train_test_split(X, Y, test_size = 0.30, random_state = 42)"
   ]
  },
  {
   "cell_type": "code",
   "execution_count": 25,
   "id": "plain-springfield",
   "metadata": {
    "execution": {
     "iopub.execute_input": "2021-07-06T13:23:30.113924Z",
     "iopub.status.busy": "2021-07-06T13:23:30.113217Z",
     "iopub.status.idle": "2021-07-06T13:23:30.503129Z",
     "shell.execute_reply": "2021-07-06T13:23:30.504420Z",
     "shell.execute_reply.started": "2021-07-06T13:17:36.668425Z"
    },
    "papermill": {
     "duration": 0.450674,
     "end_time": "2021-07-06T13:23:30.504724",
     "exception": false,
     "start_time": "2021-07-06T13:23:30.054050",
     "status": "completed"
    },
    "tags": []
   },
   "outputs": [],
   "source": [
    "model_n = LogisticRegression(max_iter = 1000)\n",
    "model_n.fit(X_train, y_train)\n",
    "y_pred = model_n.predict(X_test)"
   ]
  },
  {
   "cell_type": "code",
   "execution_count": 26,
   "id": "christian-roommate",
   "metadata": {
    "execution": {
     "iopub.execute_input": "2021-07-06T13:23:30.678409Z",
     "iopub.status.busy": "2021-07-06T13:23:30.677323Z",
     "iopub.status.idle": "2021-07-06T13:23:30.913051Z",
     "shell.execute_reply": "2021-07-06T13:23:30.912472Z",
     "shell.execute_reply.started": "2021-07-06T13:17:37.100549Z"
    },
    "papermill": {
     "duration": 0.306302,
     "end_time": "2021-07-06T13:23:30.913222",
     "exception": false,
     "start_time": "2021-07-06T13:23:30.606920",
     "status": "completed"
    },
    "tags": []
   },
   "outputs": [
    {
     "data": {
      "image/png": "[encoded data removed]",
      "text/plain": [
       "<Figure size 432x288 with 1 Axes>"
      ]
     },
     "metadata": {
      "needs_background": "light"
     },
     "output_type": "display_data"
    }
   ],
   "source": [
    "probs = model_n.predict_proba(X_test)\n",
    "probs = probs[:,1]\n",
    "\n",
    "# Считаем и строим ROC-кривую\n",
    "fpr, tpr, threshold = roc_curve(y_test, probs)\n",
    "roc_auc = roc_auc_score(y_test, probs)\n",
    "\n",
    "plt.figure()\n",
    "plt.plot([0, 1], label='Baseline', linestyle='--')\n",
    "plt.plot(fpr, tpr, label = 'Regression')\n",
    "plt.title('Logistic Regression ROC AUC = %0.3f' % roc_auc)\n",
    "plt.ylabel('True Positive Rate')\n",
    "plt.xlabel('False Positive Rate')\n",
    "plt.legend(loc = 'lower right')\n",
    "plt.show()"
   ]
  },
  {
   "cell_type": "code",
   "execution_count": 27,
   "id": "relevant-means",
   "metadata": {
    "execution": {
     "iopub.execute_input": "2021-07-06T13:23:31.037036Z",
     "iopub.status.busy": "2021-07-06T13:23:31.036244Z",
     "iopub.status.idle": "2021-07-06T13:23:31.061372Z",
     "shell.execute_reply": "2021-07-06T13:23:31.060258Z",
     "shell.execute_reply.started": "2021-07-06T13:17:37.362867Z"
    },
    "papermill": {
     "duration": 0.090536,
     "end_time": "2021-07-06T13:23:31.061609",
     "exception": false,
     "start_time": "2021-07-06T13:23:30.971073",
     "status": "completed"
    },
    "tags": []
   },
   "outputs": [
    {
     "name": "stdout",
     "output_type": "stream",
     "text": [
      "Accuracy: 0.8744\n",
      "f1_score: 0.0\n",
      "Recall: 0.0\n",
      "MSE: 0.1256\n"
     ]
    }
   ],
   "source": [
    "# Выведем метрики качества:\n",
    "print(\n",
    "    'Accuracy: {}'.format(np.round(accuracy_score(y_test, y_pred), 4)), \n",
    "    'f1_score: {}'.format(np.round(f1_score(y_test, y_pred), 4)),\n",
    "    'Recall: {}'.format(np.round(recall_score(y_test, y_pred), 4)),\n",
    "    'MSE: {}'.format(np.round(mean_squared_error(y_test, y_pred), 4)), sep=\"\\n\"\n",
    "    )"
   ]
  },
  {
   "cell_type": "code",
   "execution_count": 28,
   "id": "competent-validity",
   "metadata": {
    "execution": {
     "iopub.execute_input": "2021-07-06T13:23:31.180075Z",
     "iopub.status.busy": "2021-07-06T13:23:31.179374Z",
     "iopub.status.idle": "2021-07-06T13:23:31.216757Z",
     "shell.execute_reply": "2021-07-06T13:23:31.217319Z",
     "shell.execute_reply.started": "2021-07-06T13:17:37.390906Z"
    },
    "papermill": {
     "duration": 0.098476,
     "end_time": "2021-07-06T13:23:31.217512",
     "exception": false,
     "start_time": "2021-07-06T13:23:31.119036",
     "status": "completed"
    },
    "tags": []
   },
   "outputs": [
    {
     "data": {
      "text/plain": [
       "array([[19360,     0],\n",
       "       [ 2780,     0]])"
      ]
     },
     "execution_count": 28,
     "metadata": {},
     "output_type": "execute_result"
    }
   ],
   "source": [
    "# Посчитаем матрицу ошибок\n",
    "confusion_matrix(y_test, y_pred)"
   ]
  },
  {
   "cell_type": "markdown",
   "id": "continued-excerpt",
   "metadata": {
    "papermill": {
     "duration": 0.057158,
     "end_time": "2021-07-06T13:23:31.334161",
     "exception": false,
     "start_time": "2021-07-06T13:23:31.277003",
     "status": "completed"
    },
    "tags": []
   },
   "source": [
    "Судя по матрице ошибок, модель вообще не видит дефолтных пользователей, и таким образом, займ будет одобрен всем. Нужно улучшать модель."
   ]
  },
  {
   "cell_type": "markdown",
   "id": "upset-triumph",
   "metadata": {
    "papermill": {
     "duration": 0.056617,
     "end_time": "2021-07-06T13:23:31.448161",
     "exception": false,
     "start_time": "2021-07-06T13:23:31.391544",
     "status": "completed"
    },
    "tags": []
   },
   "source": [
    "## Анализ числовых переменных"
   ]
  },
  {
   "cell_type": "code",
   "execution_count": 29,
   "id": "proof-sucking",
   "metadata": {
    "execution": {
     "iopub.execute_input": "2021-07-06T13:23:31.565786Z",
     "iopub.status.busy": "2021-07-06T13:23:31.564808Z",
     "iopub.status.idle": "2021-07-06T13:23:33.165626Z",
     "shell.execute_reply": "2021-07-06T13:23:33.166100Z",
     "shell.execute_reply.started": "2021-07-06T13:17:37.429153Z"
    },
    "papermill": {
     "duration": 1.661474,
     "end_time": "2021-07-06T13:23:33.166285",
     "exception": false,
     "start_time": "2021-07-06T13:23:31.504811",
     "status": "completed"
    },
    "tags": []
   },
   "outputs": [
    {
     "data": {
      "image/png": "[encoded data removed]",
      "text/plain": [
       "<Figure size 720x288 with 1 Axes>"
      ]
     },
     "metadata": {
      "needs_background": "light"
     },
     "output_type": "display_data"
    },
    {
     "data": {
      "image/png": "[encoded data removed]",
      "text/plain": [
       "<Figure size 720x288 with 1 Axes>"
      ]
     },
     "metadata": {
      "needs_background": "light"
     },
     "output_type": "display_data"
    },
    {
     "data": {
      "image/png": "[encoded data removed]",
      "text/plain": [
       "<Figure size 720x288 with 1 Axes>"
      ]
     },
     "metadata": {
      "needs_background": "light"
     },
     "output_type": "display_data"
    },
    {
     "data": {
      "image/png": "[encoded data removed]",
      "text/plain": [
       "<Figure size 720x288 with 1 Axes>"
      ]
     },
     "metadata": {
      "needs_background": "light"
     },
     "output_type": "display_data"
    },
    {
     "data": {
      "image/png": "[encoded data removed]",
      "text/plain": [
       "<Figure size 720x288 with 1 Axes>"
      ]
     },
     "metadata": {
      "needs_background": "light"
     },
     "output_type": "display_data"
    },
    {
     "data": {
      "image/png": "[encoded data removed]",
      "text/plain": [
       "<Figure size 720x288 with 1 Axes>"
      ]
     },
     "metadata": {
      "needs_background": "light"
     },
     "output_type": "display_data"
    },
    {
     "data": {
      "image/png": "[encoded data removed]",
      "text/plain": [
       "<Figure size 720x288 with 1 Axes>"
      ]
     },
     "metadata": {
      "needs_background": "light"
     },
     "output_type": "display_data"
    }
   ],
   "source": [
    "# Построим гистограммы распределения числовых величин\n",
    "for i in num_cols:\n",
    "    plt.figure(figsize=(10, 4))\n",
    "    sns.distplot(scr[i][scr[i] > 0].dropna(), kde = False, rug=False)\n",
    "    plt.title(i)\n",
    "    plt.show()"
   ]
  },
  {
   "cell_type": "markdown",
   "id": "domestic-groove",
   "metadata": {
    "papermill": {
     "duration": 0.062052,
     "end_time": "2021-07-06T13:23:33.290967",
     "exception": false,
     "start_time": "2021-07-06T13:23:33.228915",
     "status": "completed"
    },
    "tags": []
   },
   "source": [
    "Видим по графикам, что некоторые распределения смещены влево. "
   ]
  },
  {
   "cell_type": "code",
   "execution_count": 30,
   "id": "maritime-kennedy",
   "metadata": {
    "execution": {
     "iopub.execute_input": "2021-07-06T13:23:33.421313Z",
     "iopub.status.busy": "2021-07-06T13:23:33.420573Z",
     "iopub.status.idle": "2021-07-06T13:23:34.761959Z",
     "shell.execute_reply": "2021-07-06T13:23:34.761364Z",
     "shell.execute_reply.started": "2021-07-06T13:17:39.220300Z"
    },
    "papermill": {
     "duration": 1.4094,
     "end_time": "2021-07-06T13:23:34.762102",
     "exception": false,
     "start_time": "2021-07-06T13:23:33.352702",
     "status": "completed"
    },
    "tags": []
   },
   "outputs": [
    {
     "data": {
      "image/png": "[encoded data removed]",
      "text/plain": [
       "<Figure size 1080x216 with 1 Axes>"
      ]
     },
     "metadata": {
      "needs_background": "light"
     },
     "output_type": "display_data"
    },
    {
     "data": {
      "image/png": "[encoded data removed]",
      "text/plain": [
       "<Figure size 1080x216 with 1 Axes>"
      ]
     },
     "metadata": {
      "needs_background": "light"
     },
     "output_type": "display_data"
    },
    {
     "data": {
      "image/png": "[encoded data removed]",
      "text/plain": [
       "<Figure size 1080x216 with 1 Axes>"
      ]
     },
     "metadata": {
      "needs_background": "light"
     },
     "output_type": "display_data"
    },
    {
     "data": {
      "image/png": "[encoded data removed]",
      "text/plain": [
       "<Figure size 1080x216 with 1 Axes>"
      ]
     },
     "metadata": {
      "needs_background": "light"
     },
     "output_type": "display_data"
    },
    {
     "data": {
      "image/png": "[encoded data removed]",
      "text/plain": [
       "<Figure size 1080x216 with 1 Axes>"
      ]
     },
     "metadata": {
      "needs_background": "light"
     },
     "output_type": "display_data"
    },
    {
     "data": {
      "image/png": "[encoded data removed]",
      "text/plain": [
       "<Figure size 1080x216 with 1 Axes>"
      ]
     },
     "metadata": {
      "needs_background": "light"
     },
     "output_type": "display_data"
    },
    {
     "data": {
      "image/png": "[encoded data removed]",
      "text/plain": [
       "<Figure size 1080x216 with 1 Axes>"
      ]
     },
     "metadata": {
      "needs_background": "light"
     },
     "output_type": "display_data"
    }
   ],
   "source": [
    "# Посмотрим на боксплоты и выбросы\n",
    "for col in num_cols:\n",
    "    plt.figure(figsize=(15,3))\n",
    "    sns.boxplot(y = scr['default'], x = scr[col],\n",
    "            showmeans=True, meanline=True, orient = 'h')"
   ]
  },
  {
   "cell_type": "markdown",
   "id": "nearby-chocolate",
   "metadata": {
    "papermill": {
     "duration": 0.066265,
     "end_time": "2021-07-06T13:23:34.896691",
     "exception": false,
     "start_time": "2021-07-06T13:23:34.830426",
     "status": "completed"
    },
    "tags": []
   },
   "source": [
    "Мы видим, что клиенты с дефолтом в среднем более молодые, имели больше запросов в БКИ и больше отказов по заявкам. День подачи заявки не влияет на дефолтность, можно его убрать. Нужно поработать с колонками, в которых есть выбросы."
   ]
  },
  {
   "cell_type": "code",
   "execution_count": 31,
   "id": "biblical-reviewer",
   "metadata": {
    "execution": {
     "iopub.execute_input": "2021-07-06T13:23:35.046217Z",
     "iopub.status.busy": "2021-07-06T13:23:35.045534Z",
     "iopub.status.idle": "2021-07-06T13:23:35.048307Z",
     "shell.execute_reply": "2021-07-06T13:23:35.048792Z",
     "shell.execute_reply.started": "2021-07-06T13:17:40.876103Z"
    },
    "papermill": {
     "duration": 0.086025,
     "end_time": "2021-07-06T13:23:35.048984",
     "exception": false,
     "start_time": "2021-07-06T13:23:34.962959",
     "status": "completed"
    },
    "tags": []
   },
   "outputs": [],
   "source": [
    "# Удаляем app_day\n",
    "scr.drop(['app_day'], axis=1, inplace=True)\n",
    "num_cols.remove('app_day')"
   ]
  },
  {
   "cell_type": "code",
   "execution_count": 32,
   "id": "retained-dominican",
   "metadata": {
    "execution": {
     "iopub.execute_input": "2021-07-06T13:23:35.191605Z",
     "iopub.status.busy": "2021-07-06T13:23:35.190880Z",
     "iopub.status.idle": "2021-07-06T13:23:35.253861Z",
     "shell.execute_reply": "2021-07-06T13:23:35.253154Z",
     "shell.execute_reply.started": "2021-07-06T13:17:40.889119Z"
    },
    "papermill": {
     "duration": 0.137528,
     "end_time": "2021-07-06T13:23:35.254005",
     "exception": false,
     "start_time": "2021-07-06T13:23:35.116477",
     "status": "completed"
    },
    "tags": []
   },
   "outputs": [
    {
     "name": "stdout",
     "output_type": "stream",
     "text": [
      "Для decline_app_cnt IQR: 0.0,  Границы выбросов: [0.0, 0.0].\n",
      "Всего 18677 выбросов\n",
      "Для income IQR: 28000.0,  Границы выбросов: [-22000.0, 90000.0].\n",
      "Всего 7000 выбросов\n",
      "Для bki_request_cnt IQR: 3.0,  Границы выбросов: [-4.5, 7.5].\n",
      "Всего 2636 выбросов\n",
      "Для score_bki IQR: 0.6925455175000004,  Границы выбросов: [-3.299251946250001, -0.5290698762499992].\n",
      "Всего 518 выбросов\n"
     ]
    }
   ],
   "source": [
    "outliers('decline_app_cnt')\n",
    "outliers('income')\n",
    "outliers('bki_request_cnt')\n",
    "outliers('score_bki')"
   ]
  },
  {
   "cell_type": "markdown",
   "id": "concrete-productivity",
   "metadata": {
    "papermill": {
     "duration": 0.067934,
     "end_time": "2021-07-06T13:23:35.388842",
     "exception": false,
     "start_time": "2021-07-06T13:23:35.320908",
     "status": "completed"
    },
    "tags": []
   },
   "source": [
    "Коллеги подсказывают, что decline_app_cnt и bki_request_cnt можно перевести в категориальные признаки по принципу 1-2-3-много."
   ]
  },
  {
   "cell_type": "code",
   "execution_count": 33,
   "id": "later-income",
   "metadata": {
    "execution": {
     "iopub.execute_input": "2021-07-06T13:23:35.527942Z",
     "iopub.status.busy": "2021-07-06T13:23:35.527284Z",
     "iopub.status.idle": "2021-07-06T13:23:35.534916Z",
     "shell.execute_reply": "2021-07-06T13:23:35.534274Z",
     "shell.execute_reply.started": "2021-07-06T13:17:40.961148Z"
    },
    "papermill": {
     "duration": 0.078962,
     "end_time": "2021-07-06T13:23:35.535055",
     "exception": false,
     "start_time": "2021-07-06T13:23:35.456093",
     "status": "completed"
    },
    "tags": []
   },
   "outputs": [
    {
     "data": {
      "text/plain": [
       "0     91471\n",
       "1     12500\n",
       "2      3622\n",
       "3      1365\n",
       "4       606\n",
       "5       255\n",
       "6       156\n",
       "7        58\n",
       "8        37\n",
       "9        29\n",
       "10       16\n",
       "11       10\n",
       "12        5\n",
       "13        4\n",
       "14        3\n",
       "16        3\n",
       "15        1\n",
       "19        1\n",
       "20        1\n",
       "21        1\n",
       "22        1\n",
       "24        1\n",
       "30        1\n",
       "33        1\n",
       "Name: decline_app_cnt, dtype: int64"
      ]
     },
     "execution_count": 33,
     "metadata": {},
     "output_type": "execute_result"
    }
   ],
   "source": [
    "# Посмотрим наиболее частные значения\n",
    "scr.decline_app_cnt.value_counts()"
   ]
  },
  {
   "cell_type": "code",
   "execution_count": 34,
   "id": "several-domestic",
   "metadata": {
    "execution": {
     "iopub.execute_input": "2021-07-06T13:23:35.690306Z",
     "iopub.status.busy": "2021-07-06T13:23:35.685040Z",
     "iopub.status.idle": "2021-07-06T13:23:35.749579Z",
     "shell.execute_reply": "2021-07-06T13:23:35.748964Z",
     "shell.execute_reply.started": "2021-07-06T13:17:40.973292Z"
    },
    "papermill": {
     "duration": 0.147505,
     "end_time": "2021-07-06T13:23:35.749722",
     "exception": false,
     "start_time": "2021-07-06T13:23:35.602217",
     "status": "completed"
    },
    "tags": []
   },
   "outputs": [],
   "source": [
    "# Заменим значения\n",
    "scr.decline_app_cnt = scr.decline_app_cnt.apply(lambda x: (x if x < 4 else 4))\n",
    "\n",
    "# Удалим колонку из списка числовых и добавим в список категориальных\n",
    "num_cols.remove('decline_app_cnt')\n",
    "cat_cols.append('decline_app_cnt')"
   ]
  },
  {
   "cell_type": "code",
   "execution_count": 35,
   "id": "fourth-potter",
   "metadata": {
    "execution": {
     "iopub.execute_input": "2021-07-06T13:23:35.892622Z",
     "iopub.status.busy": "2021-07-06T13:23:35.891624Z",
     "iopub.status.idle": "2021-07-06T13:23:35.899273Z",
     "shell.execute_reply": "2021-07-06T13:23:35.899835Z",
     "shell.execute_reply.started": "2021-07-06T13:17:41.049107Z"
    },
    "papermill": {
     "duration": 0.08121,
     "end_time": "2021-07-06T13:23:35.900015",
     "exception": false,
     "start_time": "2021-07-06T13:23:35.818805",
     "status": "completed"
    },
    "tags": []
   },
   "outputs": [
    {
     "data": {
      "text/plain": [
       "0     28908\n",
       "1     27295\n",
       "2     20481\n",
       "3     13670\n",
       "4      8406\n",
       "5      4960\n",
       "6      2500\n",
       "7      1292\n",
       "8       735\n",
       "9       459\n",
       "10      350\n",
       "11      278\n",
       "12      217\n",
       "13      151\n",
       "14      110\n",
       "15       81\n",
       "16       58\n",
       "17       33\n",
       "18       32\n",
       "19       30\n",
       "21       19\n",
       "20       14\n",
       "24       12\n",
       "23       12\n",
       "22        8\n",
       "25        5\n",
       "27        5\n",
       "28        5\n",
       "26        4\n",
       "32        4\n",
       "29        3\n",
       "40        2\n",
       "33        2\n",
       "36        1\n",
       "34        1\n",
       "41        1\n",
       "45        1\n",
       "46        1\n",
       "47        1\n",
       "53        1\n",
       "Name: bki_request_cnt, dtype: int64"
      ]
     },
     "execution_count": 35,
     "metadata": {},
     "output_type": "execute_result"
    }
   ],
   "source": [
    "scr.bki_request_cnt.value_counts()"
   ]
  },
  {
   "cell_type": "code",
   "execution_count": 36,
   "id": "robust-carpet",
   "metadata": {
    "execution": {
     "iopub.execute_input": "2021-07-06T13:23:36.053931Z",
     "iopub.status.busy": "2021-07-06T13:23:36.047773Z",
     "iopub.status.idle": "2021-07-06T13:23:36.119051Z",
     "shell.execute_reply": "2021-07-06T13:23:36.118465Z",
     "shell.execute_reply.started": "2021-07-06T13:17:41.061085Z"
    },
    "papermill": {
     "duration": 0.149139,
     "end_time": "2021-07-06T13:23:36.119192",
     "exception": false,
     "start_time": "2021-07-06T13:23:35.970053",
     "status": "completed"
    },
    "tags": []
   },
   "outputs": [],
   "source": [
    "# Заменим значения\n",
    "scr.bki_request_cnt = scr.decline_app_cnt.apply(lambda x: (x if x < 7 else 7))\n",
    "\n",
    "# Удалим колонку из списка числовых и добавим в список категориальных\n",
    "num_cols.remove('bki_request_cnt')\n",
    "cat_cols.append('bki_request_cnt')"
   ]
  },
  {
   "cell_type": "code",
   "execution_count": 37,
   "id": "selected-newsletter",
   "metadata": {
    "execution": {
     "iopub.execute_input": "2021-07-06T13:23:36.265445Z",
     "iopub.status.busy": "2021-07-06T13:23:36.264275Z",
     "iopub.status.idle": "2021-07-06T13:23:36.432070Z",
     "shell.execute_reply": "2021-07-06T13:23:36.432559Z",
     "shell.execute_reply.started": "2021-07-06T13:17:41.134492Z"
    },
    "papermill": {
     "duration": 0.245454,
     "end_time": "2021-07-06T13:23:36.432750",
     "exception": false,
     "start_time": "2021-07-06T13:23:36.187296",
     "status": "completed"
    },
    "tags": []
   },
   "outputs": [
    {
     "data": {
      "text/plain": [
       "<AxesSubplot:>"
      ]
     },
     "execution_count": 37,
     "metadata": {},
     "output_type": "execute_result"
    },
    {
     "data": {
      "image/png": "[encoded data removed]",
      "text/plain": [
       "<Figure size 432x288 with 1 Axes>"
      ]
     },
     "metadata": {
      "needs_background": "light"
     },
     "output_type": "display_data"
    }
   ],
   "source": [
    "# Проведем оценку значимости признаков с помощью функции f_classif\n",
    "# Визуализируем результат\n",
    "imp_num = pd.Series(f_classif(scr[num_cols], scr['default'])[0], index = num_cols)\n",
    "imp_num.sort_values(inplace = True)\n",
    "imp_num.plot(kind = 'barh')"
   ]
  },
  {
   "cell_type": "code",
   "execution_count": 38,
   "id": "indian-ecuador",
   "metadata": {
    "execution": {
     "iopub.execute_input": "2021-07-06T13:23:36.578135Z",
     "iopub.status.busy": "2021-07-06T13:23:36.577347Z",
     "iopub.status.idle": "2021-07-06T13:23:36.871349Z",
     "shell.execute_reply": "2021-07-06T13:23:36.870690Z",
     "shell.execute_reply.started": "2021-07-06T13:17:41.297177Z"
    },
    "papermill": {
     "duration": 0.36981,
     "end_time": "2021-07-06T13:23:36.871504",
     "exception": false,
     "start_time": "2021-07-06T13:23:36.501694",
     "status": "completed"
    },
    "tags": []
   },
   "outputs": [
    {
     "data": {
      "text/plain": [
       "<AxesSubplot:>"
      ]
     },
     "execution_count": 38,
     "metadata": {},
     "output_type": "execute_result"
    },
    {
     "data": {
      "image/png": "[encoded data removed]",
      "text/plain": [
       "<Figure size 432x288 with 2 Axes>"
      ]
     },
     "metadata": {
      "needs_background": "light"
     },
     "output_type": "display_data"
    }
   ],
   "source": [
    "# Оценим корреляцию по Пирсону\n",
    "sns.heatmap(scr[num_cols].corr().abs(), vmin=0, vmax=1, annot=True, fmt=\".2f\")"
   ]
  },
  {
   "cell_type": "markdown",
   "id": "lovely-guarantee",
   "metadata": {
    "papermill": {
     "duration": 0.069989,
     "end_time": "2021-07-06T13:23:37.012797",
     "exception": false,
     "start_time": "2021-07-06T13:23:36.942808",
     "status": "completed"
    },
    "tags": []
   },
   "source": [
    "Признаки коррелируют слабо, оставляем для модели все. Вернемся к колонкам со смещенными распределениями и приведем их к более нормальному виду с помощью логарифмирования."
   ]
  },
  {
   "cell_type": "code",
   "execution_count": 39,
   "id": "southwest-victory",
   "metadata": {
    "execution": {
     "iopub.execute_input": "2021-07-06T13:23:37.158405Z",
     "iopub.status.busy": "2021-07-06T13:23:37.157396Z",
     "iopub.status.idle": "2021-07-06T13:23:37.450473Z",
     "shell.execute_reply": "2021-07-06T13:23:37.451109Z",
     "shell.execute_reply.started": "2021-07-06T13:17:41.623718Z"
    },
    "papermill": {
     "duration": 0.367851,
     "end_time": "2021-07-06T13:23:37.451278",
     "exception": false,
     "start_time": "2021-07-06T13:23:37.083427",
     "status": "completed"
    },
    "tags": []
   },
   "outputs": [],
   "source": [
    "# Логарифмируем числовые колонки\n",
    "scr['income'] = scr['income'].apply(lambda x: np.log(x + 1))\n",
    "# scr['score_bki'] = scr['score_bki'].apply(lambda x: np.log(x + 1))\n",
    "# не логарифмируем"
   ]
  },
  {
   "cell_type": "code",
   "execution_count": 40,
   "id": "parliamentary-sensitivity",
   "metadata": {
    "execution": {
     "iopub.execute_input": "2021-07-06T13:23:37.594705Z",
     "iopub.status.busy": "2021-07-06T13:23:37.594006Z",
     "iopub.status.idle": "2021-07-06T13:23:38.488302Z",
     "shell.execute_reply": "2021-07-06T13:23:38.488929Z",
     "shell.execute_reply.started": "2021-07-06T13:17:41.920728Z"
    },
    "papermill": {
     "duration": 0.967746,
     "end_time": "2021-07-06T13:23:38.489121",
     "exception": false,
     "start_time": "2021-07-06T13:23:37.521375",
     "status": "completed"
    },
    "tags": []
   },
   "outputs": [
    {
     "data": {
      "image/png": "[encoded data removed]",
      "text/plain": [
       "<Figure size 720x288 with 1 Axes>"
      ]
     },
     "metadata": {
      "needs_background": "light"
     },
     "output_type": "display_data"
    },
    {
     "data": {
      "image/png": "[encoded data removed]",
      "text/plain": [
       "<Figure size 720x288 with 1 Axes>"
      ]
     },
     "metadata": {
      "needs_background": "light"
     },
     "output_type": "display_data"
    },
    {
     "data": {
      "image/png": "[encoded data removed]",
      "text/plain": [
       "<Figure size 720x288 with 1 Axes>"
      ]
     },
     "metadata": {
      "needs_background": "light"
     },
     "output_type": "display_data"
    },
    {
     "data": {
      "image/png": "[encoded data removed]",
      "text/plain": [
       "<Figure size 720x288 with 1 Axes>"
      ]
     },
     "metadata": {
      "needs_background": "light"
     },
     "output_type": "display_data"
    }
   ],
   "source": [
    "# Построим гистограммы логарифмированных данных\n",
    "for i in num_cols:\n",
    "    plt.figure(figsize=(10, 4))\n",
    "    sns.distplot(scr[i][scr[i] > 0].dropna(), kde = False, rug=False)\n",
    "    plt.title(i)\n",
    "    plt.show()"
   ]
  },
  {
   "cell_type": "code",
   "execution_count": 41,
   "id": "brazilian-burst",
   "metadata": {
    "execution": {
     "iopub.execute_input": "2021-07-06T13:23:38.643268Z",
     "iopub.status.busy": "2021-07-06T13:23:38.642598Z",
     "iopub.status.idle": "2021-07-06T13:23:39.272469Z",
     "shell.execute_reply": "2021-07-06T13:23:39.273042Z",
     "shell.execute_reply.started": "2021-07-06T13:17:42.924743Z"
    },
    "papermill": {
     "duration": 0.710573,
     "end_time": "2021-07-06T13:23:39.273227",
     "exception": false,
     "start_time": "2021-07-06T13:23:38.562654",
     "status": "completed"
    },
    "tags": []
   },
   "outputs": [
    {
     "data": {
      "image/png": "[encoded data removed]",
      "text/plain": [
       "<Figure size 1080x216 with 1 Axes>"
      ]
     },
     "metadata": {
      "needs_background": "light"
     },
     "output_type": "display_data"
    },
    {
     "data": {
      "image/png": "[encoded data removed]",
      "text/plain": [
       "<Figure size 1080x216 with 1 Axes>"
      ]
     },
     "metadata": {
      "needs_background": "light"
     },
     "output_type": "display_data"
    },
    {
     "data": {
      "image/png": "[encoded data removed]",
      "text/plain": [
       "<Figure size 1080x216 with 1 Axes>"
      ]
     },
     "metadata": {
      "needs_background": "light"
     },
     "output_type": "display_data"
    },
    {
     "data": {
      "image/png": "[encoded data removed]",
      "text/plain": [
       "<Figure size 1080x216 with 1 Axes>"
      ]
     },
     "metadata": {
      "needs_background": "light"
     },
     "output_type": "display_data"
    }
   ],
   "source": [
    "# Посмотрим на боксплоты и выбросы после преобразований\n",
    "for col in num_cols:\n",
    "    plt.figure(figsize=(15,3))\n",
    "    sns.boxplot(y = scr['default'], x = scr[col],\n",
    "            showmeans=True, meanline=True, orient = 'h')"
   ]
  },
  {
   "cell_type": "code",
   "execution_count": 42,
   "id": "foreign-wealth",
   "metadata": {
    "execution": {
     "iopub.execute_input": "2021-07-06T13:23:39.430101Z",
     "iopub.status.busy": "2021-07-06T13:23:39.429352Z",
     "iopub.status.idle": "2021-07-06T13:23:39.451720Z",
     "shell.execute_reply": "2021-07-06T13:23:39.451147Z",
     "shell.execute_reply.started": "2021-07-06T13:17:43.639292Z"
    },
    "papermill": {
     "duration": 0.102226,
     "end_time": "2021-07-06T13:23:39.451866",
     "exception": false,
     "start_time": "2021-07-06T13:23:39.349640",
     "status": "completed"
    },
    "tags": []
   },
   "outputs": [
    {
     "name": "stdout",
     "output_type": "stream",
     "text": [
      "Для income IQR: 0.8754395717201806,  Границы выбросов: [8.590378193705899, 12.092136480586621].\n",
      "Всего 2609 выбросов\n"
     ]
    }
   ],
   "source": [
    "outliers('income')\n",
    "# outliers('score_bki')"
   ]
  },
  {
   "cell_type": "markdown",
   "id": "external-scotland",
   "metadata": {
    "execution": {
     "iopub.execute_input": "2021-07-06T12:05:20.138718Z",
     "iopub.status.busy": "2021-07-06T12:05:20.138305Z",
     "iopub.status.idle": "2021-07-06T12:05:20.146713Z",
     "shell.execute_reply": "2021-07-06T12:05:20.144887Z",
     "shell.execute_reply.started": "2021-07-06T12:05:20.138680Z"
    },
    "papermill": {
     "duration": 0.075659,
     "end_time": "2021-07-06T13:23:39.604374",
     "exception": false,
     "start_time": "2021-07-06T13:23:39.528715",
     "status": "completed"
    },
    "tags": []
   },
   "source": [
    "Итак, дополнительно скажем, что средний доход у дефолтных клиентов, также меньше их средний возраст. На данном этапе работы принято решение ничего не делать с выбросами. Распределение дохода вполне правдоподобно, а для решения по выбросам в score_bki нужно углубленное знание темы. "
   ]
  },
  {
   "cell_type": "markdown",
   "id": "leading-darkness",
   "metadata": {
    "papermill": {
     "duration": 0.075378,
     "end_time": "2021-07-06T13:23:39.755612",
     "exception": false,
     "start_time": "2021-07-06T13:23:39.680234",
     "status": "completed"
    },
    "tags": []
   },
   "source": [
    "## Анализ категориальных признаков"
   ]
  },
  {
   "cell_type": "code",
   "execution_count": 43,
   "id": "earned-merchant",
   "metadata": {
    "execution": {
     "iopub.execute_input": "2021-07-06T13:23:39.921541Z",
     "iopub.status.busy": "2021-07-06T13:23:39.920790Z",
     "iopub.status.idle": "2021-07-06T13:23:40.371864Z",
     "shell.execute_reply": "2021-07-06T13:23:40.371328Z",
     "shell.execute_reply.started": "2021-07-06T13:17:43.685371Z"
    },
    "papermill": {
     "duration": 0.538909,
     "end_time": "2021-07-06T13:23:40.372018",
     "exception": false,
     "start_time": "2021-07-06T13:23:39.833109",
     "status": "completed"
    },
    "tags": []
   },
   "outputs": [
    {
     "data": {
      "text/plain": [
       "<AxesSubplot:>"
      ]
     },
     "execution_count": 43,
     "metadata": {},
     "output_type": "execute_result"
    },
    {
     "data": {
      "image/png": "[encoded data removed]",
      "text/plain": [
       "<Figure size 432x288 with 1 Axes>"
      ]
     },
     "metadata": {
      "needs_background": "light"
     },
     "output_type": "display_data"
    }
   ],
   "source": [
    "# Оценим значимость категориальных переменных\n",
    "imp_cat = Series(mutual_info_classif(scr[bin_cols + cat_cols], scr['default'],\n",
    "                                     discrete_features =True), index = bin_cols + cat_cols)\n",
    "imp_cat.sort_values(inplace = True)\n",
    "imp_cat.plot(kind = 'barh')"
   ]
  },
  {
   "cell_type": "markdown",
   "id": "august-amazon",
   "metadata": {
    "papermill": {
     "duration": 0.076768,
     "end_time": "2021-07-06T13:23:40.526332",
     "exception": false,
     "start_time": "2021-07-06T13:23:40.449564",
     "status": "completed"
    },
    "tags": []
   },
   "source": [
    "Судя по гистограмме, самый важный признак - это связь заемщика с другими клиентами банка. Количество запросов в БКИ и количество отказов имеют примерно одинковую важность. Оставим все показатели."
   ]
  },
  {
   "cell_type": "code",
   "execution_count": 44,
   "id": "guilty-indonesian",
   "metadata": {
    "execution": {
     "iopub.execute_input": "2021-07-06T13:23:40.692194Z",
     "iopub.status.busy": "2021-07-06T13:23:40.691390Z",
     "iopub.status.idle": "2021-07-06T13:23:42.067930Z",
     "shell.execute_reply": "2021-07-06T13:23:42.068452Z",
     "shell.execute_reply.started": "2021-07-06T13:17:44.156489Z"
    },
    "papermill": {
     "duration": 1.464294,
     "end_time": "2021-07-06T13:23:42.068647",
     "exception": false,
     "start_time": "2021-07-06T13:23:40.604353",
     "status": "completed"
    },
    "tags": []
   },
   "outputs": [
    {
     "data": {
      "text/plain": [
       "<AxesSubplot:>"
      ]
     },
     "execution_count": 44,
     "metadata": {},
     "output_type": "execute_result"
    },
    {
     "data": {
      "image/png": "[encoded data removed]",
      "text/plain": [
       "<Figure size 1080x576 with 2 Axes>"
      ]
     },
     "metadata": {
      "needs_background": "light"
     },
     "output_type": "display_data"
    }
   ],
   "source": [
    "# Построим матрицу корреляций для категориальных признаков:\n",
    "plt.figure(figsize=(15,8))\n",
    "sns.heatmap(scr[cat_cols + bin_cols + ['default']].corr(), annot=True)"
   ]
  },
  {
   "cell_type": "markdown",
   "id": "victorian-metabolism",
   "metadata": {
    "papermill": {
     "duration": 0.081079,
     "end_time": "2021-07-06T13:23:42.232931",
     "exception": false,
     "start_time": "2021-07-06T13:23:42.151852",
     "status": "completed"
    },
    "tags": []
   },
   "source": [
    "Видим, что рабочий и домашний адрес имеют довольно высокую корреляцию, так же как и наличие и тип машины. Но она не настолько высокая, чтобы от нее избавляться."
   ]
  },
  {
   "cell_type": "markdown",
   "id": "curious-premium",
   "metadata": {
    "papermill": {
     "duration": 0.081283,
     "end_time": "2021-07-06T13:23:42.395833",
     "exception": false,
     "start_time": "2021-07-06T13:23:42.314550",
     "status": "completed"
    },
    "tags": []
   },
   "source": [
    "## Feature engineering"
   ]
  },
  {
   "cell_type": "code",
   "execution_count": 45,
   "id": "supported-transaction",
   "metadata": {
    "execution": {
     "iopub.execute_input": "2021-07-06T13:23:42.563083Z",
     "iopub.status.busy": "2021-07-06T13:23:42.562101Z",
     "iopub.status.idle": "2021-07-06T13:23:42.620655Z",
     "shell.execute_reply": "2021-07-06T13:23:42.621112Z",
     "shell.execute_reply.started": "2021-07-06T13:17:45.726588Z"
    },
    "papermill": {
     "duration": 0.143365,
     "end_time": "2021-07-06T13:23:42.621287",
     "exception": false,
     "start_time": "2021-07-06T13:23:42.477922",
     "status": "completed"
    },
    "tags": []
   },
   "outputs": [
    {
     "data": {
      "text/html": [
       "<div>\n",
       "<style scoped>\n",
       "    .dataframe tbody tr th:only-of-type {\n",
       "        vertical-align: middle;\n",
       "    }\n",
       "\n",
       "    .dataframe tbody tr th {\n",
       "        vertical-align: top;\n",
       "    }\n",
       "\n",
       "    .dataframe thead th {\n",
       "        text-align: right;\n",
       "    }\n",
       "</style>\n",
       "<table border=\"1\" class=\"dataframe\">\n",
       "  <thead>\n",
       "    <tr style=\"text-align: right;\">\n",
       "      <th></th>\n",
       "      <th>client_id</th>\n",
       "      <th>sex</th>\n",
       "      <th>age</th>\n",
       "      <th>car</th>\n",
       "      <th>car_type</th>\n",
       "      <th>good_work</th>\n",
       "      <th>score_bki</th>\n",
       "      <th>income</th>\n",
       "      <th>foreign_passport</th>\n",
       "      <th>sample</th>\n",
       "      <th>...</th>\n",
       "      <th>decline_app_cnt_0</th>\n",
       "      <th>decline_app_cnt_1</th>\n",
       "      <th>decline_app_cnt_2</th>\n",
       "      <th>decline_app_cnt_3</th>\n",
       "      <th>decline_app_cnt_4</th>\n",
       "      <th>bki_request_cnt_0</th>\n",
       "      <th>bki_request_cnt_1</th>\n",
       "      <th>bki_request_cnt_2</th>\n",
       "      <th>bki_request_cnt_3</th>\n",
       "      <th>bki_request_cnt_4</th>\n",
       "    </tr>\n",
       "  </thead>\n",
       "  <tbody>\n",
       "    <tr>\n",
       "      <th>0</th>\n",
       "      <td>74835</td>\n",
       "      <td>1</td>\n",
       "      <td>29</td>\n",
       "      <td>1</td>\n",
       "      <td>1</td>\n",
       "      <td>0</td>\n",
       "      <td>-2.271884</td>\n",
       "      <td>10.819798</td>\n",
       "      <td>0</td>\n",
       "      <td>0</td>\n",
       "      <td>...</td>\n",
       "      <td>1</td>\n",
       "      <td>0</td>\n",
       "      <td>0</td>\n",
       "      <td>0</td>\n",
       "      <td>0</td>\n",
       "      <td>1</td>\n",
       "      <td>0</td>\n",
       "      <td>0</td>\n",
       "      <td>0</td>\n",
       "      <td>0</td>\n",
       "    </tr>\n",
       "    <tr>\n",
       "      <th>1</th>\n",
       "      <td>17527</td>\n",
       "      <td>0</td>\n",
       "      <td>39</td>\n",
       "      <td>0</td>\n",
       "      <td>0</td>\n",
       "      <td>0</td>\n",
       "      <td>-1.504999</td>\n",
       "      <td>8.517393</td>\n",
       "      <td>0</td>\n",
       "      <td>0</td>\n",
       "      <td>...</td>\n",
       "      <td>0</td>\n",
       "      <td>0</td>\n",
       "      <td>0</td>\n",
       "      <td>0</td>\n",
       "      <td>1</td>\n",
       "      <td>0</td>\n",
       "      <td>0</td>\n",
       "      <td>0</td>\n",
       "      <td>0</td>\n",
       "      <td>1</td>\n",
       "    </tr>\n",
       "    <tr>\n",
       "      <th>2</th>\n",
       "      <td>75683</td>\n",
       "      <td>1</td>\n",
       "      <td>50</td>\n",
       "      <td>1</td>\n",
       "      <td>1</td>\n",
       "      <td>0</td>\n",
       "      <td>-1.691339</td>\n",
       "      <td>10.308986</td>\n",
       "      <td>1</td>\n",
       "      <td>0</td>\n",
       "      <td>...</td>\n",
       "      <td>1</td>\n",
       "      <td>0</td>\n",
       "      <td>0</td>\n",
       "      <td>0</td>\n",
       "      <td>0</td>\n",
       "      <td>1</td>\n",
       "      <td>0</td>\n",
       "      <td>0</td>\n",
       "      <td>0</td>\n",
       "      <td>0</td>\n",
       "    </tr>\n",
       "    <tr>\n",
       "      <th>3</th>\n",
       "      <td>26883</td>\n",
       "      <td>1</td>\n",
       "      <td>56</td>\n",
       "      <td>0</td>\n",
       "      <td>0</td>\n",
       "      <td>0</td>\n",
       "      <td>-2.374182</td>\n",
       "      <td>9.741027</td>\n",
       "      <td>0</td>\n",
       "      <td>0</td>\n",
       "      <td>...</td>\n",
       "      <td>1</td>\n",
       "      <td>0</td>\n",
       "      <td>0</td>\n",
       "      <td>0</td>\n",
       "      <td>0</td>\n",
       "      <td>1</td>\n",
       "      <td>0</td>\n",
       "      <td>0</td>\n",
       "      <td>0</td>\n",
       "      <td>0</td>\n",
       "    </tr>\n",
       "    <tr>\n",
       "      <th>4</th>\n",
       "      <td>28862</td>\n",
       "      <td>0</td>\n",
       "      <td>38</td>\n",
       "      <td>0</td>\n",
       "      <td>0</td>\n",
       "      <td>0</td>\n",
       "      <td>-2.487502</td>\n",
       "      <td>11.695255</td>\n",
       "      <td>0</td>\n",
       "      <td>0</td>\n",
       "      <td>...</td>\n",
       "      <td>1</td>\n",
       "      <td>0</td>\n",
       "      <td>0</td>\n",
       "      <td>0</td>\n",
       "      <td>0</td>\n",
       "      <td>1</td>\n",
       "      <td>0</td>\n",
       "      <td>0</td>\n",
       "      <td>0</td>\n",
       "      <td>0</td>\n",
       "    </tr>\n",
       "  </tbody>\n",
       "</table>\n",
       "<p>5 rows × 55 columns</p>\n",
       "</div>"
      ],
      "text/plain": [
       "   client_id  sex  age  car  car_type  good_work  score_bki     income  \\\n",
       "0      74835    1   29    1         1          0  -2.271884  10.819798   \n",
       "1      17527    0   39    0         0          0  -1.504999   8.517393   \n",
       "2      75683    1   50    1         1          0  -1.691339  10.308986   \n",
       "3      26883    1   56    0         0          0  -2.374182   9.741027   \n",
       "4      28862    0   38    0         0          0  -2.487502  11.695255   \n",
       "\n",
       "   foreign_passport  sample  ...  decline_app_cnt_0  decline_app_cnt_1  \\\n",
       "0                 0       0  ...                  1                  0   \n",
       "1                 0       0  ...                  0                  0   \n",
       "2                 1       0  ...                  1                  0   \n",
       "3                 0       0  ...                  1                  0   \n",
       "4                 0       0  ...                  1                  0   \n",
       "\n",
       "   decline_app_cnt_2  decline_app_cnt_3  decline_app_cnt_4  bki_request_cnt_0  \\\n",
       "0                  0                  0                  0                  1   \n",
       "1                  0                  0                  1                  0   \n",
       "2                  0                  0                  0                  1   \n",
       "3                  0                  0                  0                  1   \n",
       "4                  0                  0                  0                  1   \n",
       "\n",
       "   bki_request_cnt_1  bki_request_cnt_2  bki_request_cnt_3  bki_request_cnt_4  \n",
       "0                  0                  0                  0                  0  \n",
       "1                  0                  0                  0                  1  \n",
       "2                  0                  0                  0                  0  \n",
       "3                  0                  0                  0                  0  \n",
       "4                  0                  0                  0                  0  \n",
       "\n",
       "[5 rows x 55 columns]"
      ]
     },
     "execution_count": 45,
     "metadata": {},
     "output_type": "execute_result"
    }
   ],
   "source": [
    "# Применим One-Hot encoding для категориальных переменных\n",
    "scr = pd.get_dummies(scr, columns = cat_cols)\n",
    "\n",
    "scr.head()"
   ]
  },
  {
   "cell_type": "code",
   "execution_count": null,
   "id": "attempted-fiction",
   "metadata": {
    "papermill": {
     "duration": 0.083074,
     "end_time": "2021-07-06T13:23:42.791187",
     "exception": false,
     "start_time": "2021-07-06T13:23:42.708113",
     "status": "completed"
    },
    "tags": []
   },
   "outputs": [],
   "source": []
  }
 ],
 "metadata": {
  "kernelspec": {
   "display_name": "Python 3",
   "language": "python",
   "name": "python3"
  },
  "language_info": {
   "codemirror_mode": {
    "name": "ipython",
    "version": 3
   },
   "file_extension": ".py",
   "mimetype": "text/x-python",
   "name": "python",
   "nbconvert_exporter": "python",
   "pygments_lexer": "ipython3",
   "version": "3.7.10"
  },
  "papermill": {
   "default_parameters": {},
   "duration": 39.983838,
   "end_time": "2021-07-06T13:23:44.828378",
   "environment_variables": {},
   "exception": null,
   "input_path": "__notebook__.ipynb",
   "output_path": "__notebook__.ipynb",
   "parameters": {},
   "start_time": "2021-07-06T13:23:04.844540",
   "version": "2.3.3"
  }
 },
 "nbformat": 4,
 "nbformat_minor": 5
}
