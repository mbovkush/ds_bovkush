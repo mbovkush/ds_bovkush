{
 "cells": [
  {
   "cell_type": "markdown",
   "metadata": {
    "execution": {
     "iopub.execute_input": "2022-02-28T11:41:44.902953Z",
     "iopub.status.busy": "2022-02-28T11:41:44.902174Z",
     "iopub.status.idle": "2022-02-28T11:41:44.924678Z",
     "shell.execute_reply": "2022-02-28T11:41:44.92382Z",
     "shell.execute_reply.started": "2022-02-28T11:41:44.902866Z"
    }
   },
   "source": [
    "# Project 7. Ford vs. Ferrari\n",
    "# Классификация изображений автомобилей\n",
    "\n",
    "Основная идея этого решения: взять предобученую на ImageNet сеть Xception и дообучить под нашу задачу. \n",
    "Постараться улучшить решение, приведенное в бейзлайне, используя известные инструменты."
   ]
  },
  {
   "cell_type": "code",
   "execution_count": 1,
   "metadata": {
    "execution": {
     "iopub.execute_input": "2022-03-06T09:59:51.468174Z",
     "iopub.status.busy": "2022-03-06T09:59:51.467462Z",
     "iopub.status.idle": "2022-03-06T10:00:12.979482Z",
     "shell.execute_reply": "2022-03-06T10:00:12.978627Z",
     "shell.execute_reply.started": "2022-03-06T09:59:51.468097Z"
    }
   },
   "outputs": [],
   "source": [
    "!pip show  -q\n",
    "!pip install -q efficientnet\n",
    "!pip install git+https://github.com/mjkvaak/ImageDataAugmentor -q"
   ]
  },
  {
   "cell_type": "code",
   "execution_count": 2,
   "metadata": {
    "_cell_guid": "b1076dfc-b9ad-4769-8c92-a6c4dae69d19",
    "_kg_hide-input": true,
    "_uuid": "8f2839f25d086af736a60e9eeb907d3b93b6e0e5",
    "execution": {
     "iopub.execute_input": "2022-03-06T10:00:12.981887Z",
     "iopub.status.busy": "2022-03-06T10:00:12.981507Z",
     "iopub.status.idle": "2022-03-06T10:00:13.682435Z",
     "shell.execute_reply": "2022-03-06T10:00:13.681625Z",
     "shell.execute_reply.started": "2022-03-06T10:00:12.981846Z"
    }
   },
   "outputs": [],
   "source": [
    "!nvidia-smi"
   ]
  },
  {
   "cell_type": "code",
   "execution_count": 3,
   "metadata": {
    "_cell_guid": "79c7e3d0-c299-4dcb-8224-4455121ee9b0",
    "_kg_hide-input": true,
    "_uuid": "d629ff2d2480ee46fbb7e2d37f6b5fab8052498a",
    "execution": {
     "iopub.execute_input": "2022-03-06T10:00:13.685956Z",
     "iopub.status.busy": "2022-03-06T10:00:13.685740Z",
     "iopub.status.idle": "2022-03-06T10:00:20.959463Z",
     "shell.execute_reply": "2022-03-06T10:00:20.957986Z",
     "shell.execute_reply.started": "2022-03-06T10:00:13.685929Z"
    }
   },
   "outputs": [],
   "source": [
    "import numpy as np\n",
    "import pandas as pd\n",
    "import matplotlib.pyplot as plt\n",
    "import seaborn as sns\n",
    "import pickle\n",
    "import zipfile\n",
    "import csv\n",
    "import sys\n",
    "import os\n",
    "\n",
    "\n",
    "import tensorflow as tf\n",
    "from tensorflow.keras.preprocessing import image\n",
    "from tensorflow.keras.preprocessing.image import ImageDataGenerator\n",
    "from tensorflow.keras.callbacks import LearningRateScheduler, ModelCheckpoint, EarlyStopping\n",
    "from tensorflow.keras.callbacks import Callback\n",
    "from tensorflow.keras.regularizers import l2\n",
    "from tensorflow.keras import optimizers\n",
    "from tensorflow.keras.models import Model\n",
    "from tensorflow.keras.applications.xception import Xception\n",
    "from tensorflow.keras.layers import *\n",
    "from keras.models import Sequential\n",
    "from ImageDataAugmentor.image_data_augmentor import *\n",
    "import albumentations\n",
    "from tensorflow.keras.backend import clear_session\n",
    "from keras.applications import *\n",
    "import efficientnet.tfkeras as efn\n",
    "from sklearn.model_selection import train_test_split, StratifiedKFold\n",
    "\n",
    "import PIL\n",
    "from PIL import ImageOps, ImageFilter\n",
    "#увеличим дефолтный размер графиков\n",
    "from pylab import rcParams\n",
    "rcParams['figure.figsize'] = 10, 5\n",
    "#графики в svg выглядят более четкими\n",
    "%config InlineBackend.figure_format = 'svg' \n",
    "%matplotlib inline\n",
    "\n",
    "print(os.listdir(\"../input\"))\n",
    "print('Python       :', sys.version.split('\\n')[0])\n",
    "print('Numpy        :', np.__version__)\n",
    "print('Tensorflow   :', tf.__version__)\n",
    "print('Keras        :', tf.keras.__version__)"
   ]
  },
  {
   "cell_type": "code",
   "execution_count": 4,
   "metadata": {
    "_kg_hide-input": true,
    "execution": {
     "iopub.execute_input": "2022-03-06T10:00:20.961827Z",
     "iopub.status.busy": "2022-03-06T10:00:20.961583Z",
     "iopub.status.idle": "2022-03-06T10:00:23.895718Z",
     "shell.execute_reply": "2022-03-06T10:00:23.894613Z",
     "shell.execute_reply.started": "2022-03-06T10:00:20.961793Z"
    }
   },
   "outputs": [],
   "source": [
    "!pip freeze > requirements.txt"
   ]
  },
  {
   "cell_type": "markdown",
   "metadata": {},
   "source": [
    "# Основные настройки"
   ]
  },
  {
   "cell_type": "code",
   "execution_count": 5,
   "metadata": {
    "execution": {
     "iopub.execute_input": "2022-03-06T10:00:23.899549Z",
     "iopub.status.busy": "2022-03-06T10:00:23.899313Z",
     "iopub.status.idle": "2022-03-06T10:00:23.905904Z",
     "shell.execute_reply": "2022-03-06T10:00:23.905029Z",
     "shell.execute_reply.started": "2022-03-06T10:00:23.899518Z"
    }
   },
   "outputs": [],
   "source": [
    "# В setup выносим основные настройки: так удобнее их перебирать в дальнейшем.\n",
    "\n",
    "EPOCHS               = 10  # эпох на обучение\n",
    "BATCH_SIZE           = 64 # уменьшаем batch если сеть большая, иначе не влезет в память на GPU\n",
    "LR                   = 1e-3\n",
    "VAL_SPLIT            = 0.15 # сколько данных выделяем на тест\n",
    "\n",
    "CLASS_NUM            = 10  # количество классов в нашей задаче\n",
    "IMG_SIZE             = 224 # какого размера подаем изображения в сеть\n",
    "IMG_CHANNELS         = 3   # у RGB 3 канала\n",
    "input_shape          = (IMG_SIZE, IMG_SIZE, IMG_CHANNELS)\n",
    "\n",
    "DATA_PATH = '../input/'\n",
    "PATH = \"../working/car/\" # рабочая директория"
   ]
  },
  {
   "cell_type": "code",
   "execution_count": 6,
   "metadata": {
    "_kg_hide-input": true,
    "execution": {
     "iopub.execute_input": "2022-03-06T10:00:23.908150Z",
     "iopub.status.busy": "2022-03-06T10:00:23.907740Z",
     "iopub.status.idle": "2022-03-06T10:00:23.924788Z",
     "shell.execute_reply": "2022-03-06T10:00:23.923989Z",
     "shell.execute_reply.started": "2022-03-06T10:00:23.908113Z"
    }
   },
   "outputs": [],
   "source": [
    "# Устаналиваем конкретное значение random seed для воспроизводимости\n",
    "os.makedirs(PATH,exist_ok=False)\n",
    "\n",
    "RANDOM_SEED = 42\n",
    "np.random.seed(RANDOM_SEED)  "
   ]
  },
  {
   "cell_type": "markdown",
   "metadata": {},
   "source": [
    "# EDA / Анализ данных"
   ]
  },
  {
   "cell_type": "code",
   "execution_count": 7,
   "metadata": {
    "execution": {
     "iopub.execute_input": "2022-03-06T10:00:23.928252Z",
     "iopub.status.busy": "2022-03-06T10:00:23.927365Z",
     "iopub.status.idle": "2022-03-06T10:00:23.979566Z",
     "shell.execute_reply": "2022-03-06T10:00:23.978910Z",
     "shell.execute_reply.started": "2022-03-06T10:00:23.928210Z"
    }
   },
   "outputs": [],
   "source": [
    "train_df = pd.read_csv(DATA_PATH+\"train.csv\")\n",
    "sample_submission = pd.read_csv(DATA_PATH+\"sample-submission.csv\")\n",
    "train_df.head()"
   ]
  },
  {
   "cell_type": "code",
   "execution_count": 8,
   "metadata": {
    "execution": {
     "iopub.execute_input": "2022-03-06T10:00:23.981317Z",
     "iopub.status.busy": "2022-03-06T10:00:23.980841Z",
     "iopub.status.idle": "2022-03-06T10:00:24.005069Z",
     "shell.execute_reply": "2022-03-06T10:00:24.004378Z",
     "shell.execute_reply.started": "2022-03-06T10:00:23.981282Z"
    }
   },
   "outputs": [],
   "source": [
    "train_df.info()"
   ]
  },
  {
   "cell_type": "markdown",
   "metadata": {
    "execution": {
     "iopub.execute_input": "2022-02-28T11:44:47.607756Z",
     "iopub.status.busy": "2022-02-28T11:44:47.607018Z",
     "iopub.status.idle": "2022-02-28T11:44:47.612325Z",
     "shell.execute_reply": "2022-02-28T11:44:47.611331Z",
     "shell.execute_reply.started": "2022-02-28T11:44:47.607721Z"
    }
   },
   "source": [
    "В датасете нет пропусков."
   ]
  },
  {
   "cell_type": "code",
   "execution_count": 9,
   "metadata": {
    "execution": {
     "iopub.execute_input": "2022-03-06T10:00:24.008095Z",
     "iopub.status.busy": "2022-03-06T10:00:24.007745Z",
     "iopub.status.idle": "2022-03-06T10:00:24.017756Z",
     "shell.execute_reply": "2022-03-06T10:00:24.016944Z",
     "shell.execute_reply.started": "2022-03-06T10:00:24.008061Z"
    }
   },
   "outputs": [],
   "source": [
    "train_df.Category.value_counts()\n",
    "# распределение классов достаточно равномерное"
   ]
  },
  {
   "cell_type": "code",
   "execution_count": 10,
   "metadata": {
    "execution": {
     "iopub.execute_input": "2022-03-06T10:00:24.020966Z",
     "iopub.status.busy": "2022-03-06T10:00:24.020785Z",
     "iopub.status.idle": "2022-03-06T10:00:48.010573Z",
     "shell.execute_reply": "2022-03-06T10:00:48.009714Z",
     "shell.execute_reply.started": "2022-03-06T10:00:24.020943Z"
    }
   },
   "outputs": [],
   "source": [
    "print('Распаковываем картинки')\n",
    "# Will unzip the files so that you can see them..\n",
    "for data_zip in ['train.zip', 'test.zip']:\n",
    "    with zipfile.ZipFile(\"../input/\"+data_zip,\"r\") as z:\n",
    "        z.extractall(PATH)\n",
    "        \n",
    "print(os.listdir(PATH))"
   ]
  },
  {
   "cell_type": "code",
   "execution_count": 11,
   "metadata": {
    "_kg_hide-input": true,
    "execution": {
     "iopub.execute_input": "2022-03-06T10:00:48.012710Z",
     "iopub.status.busy": "2022-03-06T10:00:48.012191Z",
     "iopub.status.idle": "2022-03-06T10:00:48.923509Z",
     "shell.execute_reply": "2022-03-06T10:00:48.921144Z",
     "shell.execute_reply.started": "2022-03-06T10:00:48.012669Z"
    }
   },
   "outputs": [],
   "source": [
    "print('Пример картинок (random sample)')\n",
    "plt.figure(figsize=(12,8))\n",
    "\n",
    "random_image = train_df.sample(n=9)\n",
    "random_image_paths = random_image['Id'].values\n",
    "random_image_cat = random_image['Category'].values\n",
    "\n",
    "for index, path in enumerate(random_image_paths):\n",
    "    im = PIL.Image.open(PATH+f'train/{random_image_cat[index]}/{path}')\n",
    "    plt.subplot(3,3, index+1)\n",
    "    plt.imshow(im)\n",
    "    plt.title('Class: '+str(random_image_cat[index]))\n",
    "    plt.axis('off')\n",
    "plt.show()"
   ]
  },
  {
   "cell_type": "markdown",
   "metadata": {},
   "source": [
    "Посмотрим на примеры картинок и их размеры чтоб понимать как их лучше обработать и сжимать."
   ]
  },
  {
   "cell_type": "code",
   "execution_count": 12,
   "metadata": {
    "execution": {
     "iopub.execute_input": "2022-03-06T10:00:48.924748Z",
     "iopub.status.busy": "2022-03-06T10:00:48.924499Z",
     "iopub.status.idle": "2022-03-06T10:00:49.735428Z",
     "shell.execute_reply": "2022-03-06T10:00:49.734807Z",
     "shell.execute_reply.started": "2022-03-06T10:00:48.924714Z"
    }
   },
   "outputs": [],
   "source": [
    "image = PIL.Image.open(PATH+'/train/0/100380.jpg')\n",
    "imgplot = plt.imshow(image)\n",
    "plt.show()\n",
    "image.size"
   ]
  },
  {
   "cell_type": "markdown",
   "metadata": {},
   "source": [
    "Классы в данной задаче представляют собой модели автомобилей."
   ]
  },
  {
   "cell_type": "code",
   "execution_count": 13,
   "metadata": {
    "execution": {
     "iopub.execute_input": "2022-03-06T10:00:49.737285Z",
     "iopub.status.busy": "2022-03-06T10:00:49.736584Z",
     "iopub.status.idle": "2022-03-06T10:00:56.522508Z",
     "shell.execute_reply": "2022-03-06T10:00:56.521640Z",
     "shell.execute_reply.started": "2022-03-06T10:00:49.737249Z"
    }
   },
   "outputs": [],
   "source": [
    "print('Пример картинок по категориям')\n",
    "plt.figure(figsize=(12,8))\n",
    "\n",
    "\n",
    "for i in range(10):\n",
    "    image = train_df[train_df['Category'] == i].head(9)\n",
    "    image_paths = image['Id'].values\n",
    "    image_cat = image['Category'].values\n",
    "\n",
    "    for index, path in enumerate(image_paths):\n",
    "        im = PIL.Image.open(PATH + f'train/{image_cat[index]}/{path}')\n",
    "        plt.subplot(3,3, index+1)\n",
    "        plt.imshow(im)\n",
    "        plt.title('Class: '+str(image_cat[index]))\n",
    "        plt.axis('off')\n",
    "    plt.show()"
   ]
  },
  {
   "cell_type": "markdown",
   "metadata": {},
   "source": [
    "# Подготовка данных"
   ]
  },
  {
   "cell_type": "markdown",
   "metadata": {},
   "source": [
    "### Аугментация данных"
   ]
  },
  {
   "cell_type": "markdown",
   "metadata": {},
   "source": [
    "Способ аугментации из бейзлайна показал качество хуже в сравнении с применением albuminations, не будем его использовать."
   ]
  },
  {
   "cell_type": "code",
   "execution_count": 14,
   "metadata": {
    "execution": {
     "iopub.execute_input": "2022-03-06T10:00:56.527515Z",
     "iopub.status.busy": "2022-03-06T10:00:56.527244Z",
     "iopub.status.idle": "2022-03-06T10:00:56.537522Z",
     "shell.execute_reply": "2022-03-06T10:00:56.532953Z",
     "shell.execute_reply.started": "2022-03-06T10:00:56.527483Z"
    }
   },
   "outputs": [],
   "source": [
    "# Выполним аугментацию данных для лучшего обучения модели\n",
    "\n",
    "\n",
    "# train_datagen = ImageDataGenerator(\n",
    "#    rescale=1. / 255,\n",
    "#    rotation_range = 5,\n",
    "#    width_shift_range = 0.1,\n",
    "#    height_shift_range = 0.1,\n",
    "#    validation_split = VAL_SPLIT, # set validation split\n",
    "#    horizontal_flip = False,\n",
    "#    fill_mode = 'nearest',\n",
    "#    shear_range = 0.1,\n",
    "#    zoom_range = 0.1)\n",
    "\n",
    "               \n",
    "                                                                                                                      \n",
    "# test_datagen = ImageDataGenerator(rescale=1. / 255)"
   ]
  },
  {
   "cell_type": "code",
   "execution_count": 15,
   "metadata": {
    "execution": {
     "iopub.execute_input": "2022-03-06T10:00:56.541868Z",
     "iopub.status.busy": "2022-03-06T10:00:56.541021Z",
     "iopub.status.idle": "2022-03-06T10:00:56.568748Z",
     "shell.execute_reply": "2022-03-06T10:00:56.567577Z",
     "shell.execute_reply.started": "2022-03-06T10:00:56.541775Z"
    }
   },
   "outputs": [],
   "source": [
    "augments = albumentations.Compose([\n",
    "    albumentations.HorizontalFlip(p=0.5),\n",
    "    albumentations.Rotate(limit=30, \n",
    "                          interpolation=1, \n",
    "                          border_mode=4, \n",
    "                          value=None, \n",
    "                          mask_value=None, \n",
    "                          always_apply=False, \n",
    "                          p=0.5),\n",
    "    albumentations.OneOf([\n",
    "        albumentations.CenterCrop(height=224, width=200),\n",
    "        albumentations.RandomCrop(height=200, width=224),\n",
    "    ],p=0.5),\n",
    "    albumentations.OneOf([\n",
    "        albumentations.RandomBrightnessContrast(brightness_limit=0.3, contrast_limit=0.3),\n",
    "        albumentations.RandomBrightnessContrast(brightness_limit=0.1, contrast_limit=0.1)\n",
    "    ],p=0.5),\n",
    "    albumentations.GaussianBlur(p=0.05),\n",
    "    albumentations.HueSaturationValue(p=0.5),\n",
    "    albumentations.RGBShift(p=0.5),\n",
    "    albumentations.FancyPCA(alpha=0.1, always_apply=False, p=0.5),\n",
    "    albumentations.Resize(IMG_SIZE, IMG_SIZE)\n",
    "])             \n",
    "\n",
    "train_datagen = ImageDataAugmentor(\n",
    "        rescale=1./255,\n",
    "        augment = augments,\n",
    "        validation_split = VAL_SPLIT,\n",
    "        seed = RANDOM_SEED\n",
    "        )\n",
    "\n",
    "test_datagen = ImageDataGenerator(rescale=1. / 255,\n",
    "                                  validation_split = VAL_SPLIT,\n",
    "                                  # seed = RANDOM_SEED\n",
    "        )\n",
    "\n",
    "sub_datagen = ImageDataGenerator(\n",
    "        rescale=1./255,    \n",
    "    # seed = RANDOM_SEED\n",
    "        )"
   ]
  },
  {
   "cell_type": "markdown",
   "metadata": {},
   "source": [
    "### Генерация данных"
   ]
  },
  {
   "cell_type": "code",
   "execution_count": 16,
   "metadata": {
    "execution": {
     "iopub.execute_input": "2022-03-06T10:00:56.572400Z",
     "iopub.status.busy": "2022-03-06T10:00:56.571637Z",
     "iopub.status.idle": "2022-03-06T10:00:57.727024Z",
     "shell.execute_reply": "2022-03-06T10:00:57.726290Z",
     "shell.execute_reply.started": "2022-03-06T10:00:56.572354Z"
    }
   },
   "outputs": [],
   "source": [
    "# Завернем наши данные в генератор:\n",
    "\n",
    "train_generator = train_datagen.flow_from_directory(\n",
    "    PATH +'train/',      # директория где расположены папки с картинками \n",
    "    target_size = (IMG_SIZE, IMG_SIZE),\n",
    "    batch_size = BATCH_SIZE,\n",
    "    class_mode = 'categorical',\n",
    "    shuffle = True, seed=RANDOM_SEED,\n",
    "    subset = 'training') # set as training data\n",
    "\n",
    "test_generator = test_datagen.flow_from_directory(\n",
    "    PATH +'train/',\n",
    "    target_size = (IMG_SIZE, IMG_SIZE),\n",
    "    batch_size = BATCH_SIZE,\n",
    "    class_mode = 'categorical',\n",
    "    shuffle = True, seed = RANDOM_SEED,\n",
    "    subset = 'validation') # set as validation data\n",
    "\n",
    "test_sub_generator = sub_datagen.flow_from_dataframe( \n",
    "    dataframe = sample_submission,\n",
    "    directory = PATH +'test_upload/',\n",
    "    x_col = \"Id\",\n",
    "    y_col = None,\n",
    "    shuffle = False,\n",
    "    class_mode = None,\n",
    "    seed = RANDOM_SEED,\n",
    "    target_size = (IMG_SIZE, IMG_SIZE),\n",
    "    batch_size = BATCH_SIZE,)"
   ]
  },
  {
   "cell_type": "code",
   "execution_count": 17,
   "metadata": {
    "execution": {
     "iopub.execute_input": "2022-03-06T10:00:57.728815Z",
     "iopub.status.busy": "2022-03-06T10:00:57.728249Z",
     "iopub.status.idle": "2022-03-06T10:00:59.650566Z",
     "shell.execute_reply": "2022-03-06T10:00:59.649877Z",
     "shell.execute_reply.started": "2022-03-06T10:00:57.728774Z"
    }
   },
   "outputs": [],
   "source": [
    "from skimage import io\n",
    "\n",
    "def imshow(image_RGB):\n",
    "    io.imshow(image_RGB)\n",
    "    io.show()\n",
    "\n",
    "x,y = train_generator.next()\n",
    "print('Пример картинок из train_generator')\n",
    "plt.figure(figsize=(12,8))\n",
    "\n",
    "for i in range(0,9):\n",
    "    image = x[i]\n",
    "    plt.subplot(3,3, i+1)\n",
    "    plt.imshow(image)\n",
    "    #plt.title('Class: '+str(y[i]))\n",
    "    #plt.axis('off')\n",
    "plt.show()"
   ]
  },
  {
   "cell_type": "markdown",
   "metadata": {},
   "source": [
    "# Построение модели"
   ]
  },
  {
   "cell_type": "markdown",
   "metadata": {},
   "source": [
    "### Загружаем предобученную сеть Xception:"
   ]
  },
  {
   "cell_type": "code",
   "execution_count": 18,
   "metadata": {
    "execution": {
     "iopub.execute_input": "2022-03-06T10:00:59.652201Z",
     "iopub.status.busy": "2022-03-06T10:00:59.651749Z",
     "iopub.status.idle": "2022-03-06T10:00:59.670255Z",
     "shell.execute_reply": "2022-03-06T10:00:59.669586Z",
     "shell.execute_reply.started": "2022-03-06T10:00:59.652163Z"
    }
   },
   "outputs": [],
   "source": [
    "clear_session()"
   ]
  },
  {
   "cell_type": "code",
   "execution_count": 19,
   "metadata": {
    "execution": {
     "iopub.execute_input": "2022-03-06T10:00:59.671792Z",
     "iopub.status.busy": "2022-03-06T10:00:59.671393Z",
     "iopub.status.idle": "2022-03-06T10:01:03.737703Z",
     "shell.execute_reply": "2022-03-06T10:01:03.736940Z",
     "shell.execute_reply.started": "2022-03-06T10:00:59.671754Z"
    }
   },
   "outputs": [],
   "source": [
    "# Загрузим предобученную сеть Xception\n",
    "base_model = Xception(weights='imagenet', include_top=False, input_shape = input_shape)"
   ]
  },
  {
   "cell_type": "code",
   "execution_count": 20,
   "metadata": {
    "execution": {
     "iopub.execute_input": "2022-03-06T10:01:03.741085Z",
     "iopub.status.busy": "2022-03-06T10:01:03.740869Z",
     "iopub.status.idle": "2022-03-06T10:01:03.748239Z",
     "shell.execute_reply": "2022-03-06T10:01:03.747581Z",
     "shell.execute_reply.started": "2022-03-06T10:01:03.741053Z"
    }
   },
   "outputs": [],
   "source": [
    "# Заморозим слои базовой модели для последующего Fine-tuning\n",
    "# base_model.trainable = False"
   ]
  },
  {
   "cell_type": "code",
   "execution_count": 21,
   "metadata": {
    "_kg_hide-output": true,
    "execution": {
     "iopub.execute_input": "2022-03-06T10:01:03.749758Z",
     "iopub.status.busy": "2022-03-06T10:01:03.749378Z",
     "iopub.status.idle": "2022-03-06T10:01:03.958483Z",
     "shell.execute_reply": "2022-03-06T10:01:03.957712Z",
     "shell.execute_reply.started": "2022-03-06T10:01:03.749719Z"
    }
   },
   "outputs": [],
   "source": [
    "base_model.summary()"
   ]
  },
  {
   "cell_type": "code",
   "execution_count": 22,
   "metadata": {
    "execution": {
     "iopub.execute_input": "2022-03-06T10:01:03.959966Z",
     "iopub.status.busy": "2022-03-06T10:01:03.959736Z",
     "iopub.status.idle": "2022-03-06T10:01:04.004335Z",
     "shell.execute_reply": "2022-03-06T10:01:04.003668Z",
     "shell.execute_reply.started": "2022-03-06T10:01:03.959933Z"
    }
   },
   "outputs": [],
   "source": [
    "# Устанавливаем новую \"голову\" (head)\n",
    "# пробуем добавить batch-нормализацию (не дало прироста качества)\n",
    "\n",
    "x = base_model.output\n",
    "x = GlobalAveragePooling2D()(x)\n",
    "# x = BatchNormalization()(x)\n",
    "# let's add a fully-connected layer\n",
    "x = Dense(256, activation='relu')(x)\n",
    "# x = BatchNormalization()(x)\n",
    "x = Dropout(0.25)(x)\n",
    "# and a logistic layer -- let's say we have 10 classes\n",
    "predictions = Dense(CLASS_NUM, activation='softmax')(x)\n",
    "\n",
    "# this is the model we will train\n",
    "model = Model(inputs=base_model.input, outputs=predictions)\n",
    "model.compile(loss=\"categorical_crossentropy\", optimizer=optimizers.Adam(learning_rate=LR), \n",
    "              metrics=[\"accuracy\"])"
   ]
  },
  {
   "cell_type": "code",
   "execution_count": 23,
   "metadata": {
    "_kg_hide-input": false,
    "_kg_hide-output": true,
    "execution": {
     "iopub.execute_input": "2022-03-06T10:01:04.006131Z",
     "iopub.status.busy": "2022-03-06T10:01:04.005640Z",
     "iopub.status.idle": "2022-03-06T10:01:04.069477Z",
     "shell.execute_reply": "2022-03-06T10:01:04.068717Z",
     "shell.execute_reply.started": "2022-03-06T10:01:04.006094Z"
    }
   },
   "outputs": [],
   "source": [
    "model.summary()"
   ]
  },
  {
   "cell_type": "markdown",
   "metadata": {
    "execution": {
     "iopub.execute_input": "2022-03-03T17:01:52.486443Z",
     "iopub.status.busy": "2022-03-03T17:01:52.486166Z",
     "iopub.status.idle": "2022-03-03T17:01:52.492462Z",
     "shell.execute_reply": "2022-03-03T17:01:52.491659Z",
     "shell.execute_reply.started": "2022-03-03T17:01:52.486414Z"
    }
   },
   "source": [
    "### Возьмем для сравнения сеть EfficientNetB5"
   ]
  },
  {
   "cell_type": "code",
   "execution_count": 24,
   "metadata": {
    "execution": {
     "iopub.execute_input": "2022-03-06T10:01:04.070969Z",
     "iopub.status.busy": "2022-03-06T10:01:04.070737Z",
     "iopub.status.idle": "2022-03-06T10:01:04.075933Z",
     "shell.execute_reply": "2022-03-06T10:01:04.075098Z",
     "shell.execute_reply.started": "2022-03-06T10:01:04.070936Z"
    }
   },
   "outputs": [],
   "source": [
    "# base_model = efn.EfficientNetB5(weights='imagenet', include_top=False, input_shape=input_shape)"
   ]
  },
  {
   "cell_type": "code",
   "execution_count": 25,
   "metadata": {
    "execution": {
     "iopub.execute_input": "2022-03-06T10:01:04.077773Z",
     "iopub.status.busy": "2022-03-06T10:01:04.077499Z",
     "iopub.status.idle": "2022-03-06T10:01:04.084408Z",
     "shell.execute_reply": "2022-03-06T10:01:04.083587Z",
     "shell.execute_reply.started": "2022-03-06T10:01:04.077735Z"
    }
   },
   "outputs": [],
   "source": [
    "# base_model.trainable = False"
   ]
  },
  {
   "cell_type": "code",
   "execution_count": 26,
   "metadata": {
    "execution": {
     "iopub.execute_input": "2022-03-06T10:01:04.086501Z",
     "iopub.status.busy": "2022-03-06T10:01:04.085766Z",
     "iopub.status.idle": "2022-03-06T10:01:04.093140Z",
     "shell.execute_reply": "2022-03-06T10:01:04.092251Z",
     "shell.execute_reply.started": "2022-03-06T10:01:04.086462Z"
    }
   },
   "outputs": [],
   "source": [
    "# x = base_model.output\n",
    "# x = GlobalAveragePooling2D()(x)\n",
    "# x = BatchNormalization()(x)\n",
    "# x = Dropout(0.25)(x)\n",
    "# x = Dense(256, activation = 'relu')(x)\n",
    "# x = BatchNormalization()(x)\n",
    "# predictions = Dense(10, activation='softmax')(x)\n",
    "\n",
    "# model = Model(inputs=base_model.input, outputs=predictions)\n",
    "# model.compile(loss=\"categorical_crossentropy\", optimizer = optimizers.Adam(learning_rate = LR), \n",
    "#             metrics = 'accuracy')"
   ]
  },
  {
   "cell_type": "markdown",
   "metadata": {},
   "source": [
    "## Обучение модели"
   ]
  },
  {
   "cell_type": "markdown",
   "metadata": {},
   "source": [
    "Добавим ModelCheckpoint чтоб сохранять прогресс обучения модели и можно было потом подгрузить и дообучить модель."
   ]
  },
  {
   "cell_type": "code",
   "execution_count": 27,
   "metadata": {
    "execution": {
     "iopub.execute_input": "2022-03-06T10:01:04.095098Z",
     "iopub.status.busy": "2022-03-06T10:01:04.094567Z",
     "iopub.status.idle": "2022-03-06T10:01:04.102852Z",
     "shell.execute_reply": "2022-03-06T10:01:04.102087Z",
     "shell.execute_reply.started": "2022-03-06T10:01:04.095059Z"
    }
   },
   "outputs": [],
   "source": [
    "checkpoint = ModelCheckpoint('best_model.hdf5', monitor = ['val_accuracy'], \n",
    "                             verbose = 1, mode = 'max')\n",
    "earlystop = EarlyStopping(monitor='accuracy', patience=5, restore_best_weights=True)\n",
    "callbacks_list = [checkpoint, earlystop]"
   ]
  },
  {
   "cell_type": "code",
   "execution_count": 28,
   "metadata": {
    "execution": {
     "iopub.execute_input": "2022-03-06T10:01:04.108636Z",
     "iopub.status.busy": "2022-03-06T10:01:04.108402Z",
     "iopub.status.idle": "2022-03-06T10:26:45.543327Z",
     "shell.execute_reply": "2022-03-06T10:26:45.542472Z",
     "shell.execute_reply.started": "2022-03-06T10:01:04.108607Z"
    }
   },
   "outputs": [],
   "source": [
    "history = model.fit_generator(\n",
    "        train_generator,\n",
    "        steps_per_epoch = len(train_generator),\n",
    "        validation_data = test_generator, \n",
    "        validation_steps = len(test_generator),\n",
    "        epochs = EPOCHS,\n",
    "        callbacks = callbacks_list\n",
    ")"
   ]
  },
  {
   "cell_type": "code",
   "execution_count": 29,
   "metadata": {
    "execution": {
     "iopub.execute_input": "2022-03-06T10:26:45.545500Z",
     "iopub.status.busy": "2022-03-06T10:26:45.545246Z",
     "iopub.status.idle": "2022-03-06T10:26:46.118021Z",
     "shell.execute_reply": "2022-03-06T10:26:46.117278Z",
     "shell.execute_reply.started": "2022-03-06T10:26:45.545466Z"
    }
   },
   "outputs": [],
   "source": [
    "# сохраним итоговую сеть и подгрузим лучшую итерацию в обучении (best_model)\n",
    "model.save('../working/model_last.hdf5')\n",
    "model.load_weights('best_model.hdf5')"
   ]
  },
  {
   "cell_type": "code",
   "execution_count": 30,
   "metadata": {
    "_kg_hide-input": true,
    "execution": {
     "iopub.execute_input": "2022-03-06T10:26:46.119755Z",
     "iopub.status.busy": "2022-03-06T10:26:46.119463Z",
     "iopub.status.idle": "2022-03-06T10:27:06.985494Z",
     "shell.execute_reply": "2022-03-06T10:27:06.984719Z",
     "shell.execute_reply.started": "2022-03-06T10:26:46.119712Z"
    }
   },
   "outputs": [],
   "source": [
    "scores = model.evaluate_generator(test_generator, steps=len(test_generator), verbose=1)\n",
    "print(\"Accuracy: %.2f%%\" % (scores[1]*100))"
   ]
  },
  {
   "cell_type": "markdown",
   "metadata": {},
   "source": [
    "Посмотрим графики обучения:"
   ]
  },
  {
   "cell_type": "code",
   "execution_count": 31,
   "metadata": {
    "_kg_hide-input": true,
    "execution": {
     "iopub.execute_input": "2022-03-06T10:27:06.987121Z",
     "iopub.status.busy": "2022-03-06T10:27:06.986783Z",
     "iopub.status.idle": "2022-03-06T10:27:07.345670Z",
     "shell.execute_reply": "2022-03-06T10:27:07.345016Z",
     "shell.execute_reply.started": "2022-03-06T10:27:06.987085Z"
    }
   },
   "outputs": [],
   "source": [
    "acc = history.history['accuracy']\n",
    "val_acc = history.history['val_accuracy']\n",
    "loss = history.history['loss']\n",
    "val_loss = history.history['val_loss']\n",
    " \n",
    "epochs = range(len(acc))\n",
    " \n",
    "plt.plot(epochs, acc, 'b', label='Training acc')\n",
    "plt.plot(epochs, val_acc, 'r', label='Validation acc')\n",
    "plt.title('Training and validation accuracy')\n",
    "plt.legend()\n",
    " \n",
    "plt.figure()\n",
    " \n",
    "plt.plot(epochs, loss, 'b', label='Training loss')\n",
    "plt.plot(epochs, val_loss, 'r', label='Validation loss')\n",
    "plt.title('Training and validation loss')\n",
    "plt.legend()\n",
    " \n",
    "plt.show()"
   ]
  },
  {
   "cell_type": "markdown",
   "metadata": {},
   "source": [
    "### Fine-tuning"
   ]
  },
  {
   "cell_type": "markdown",
   "metadata": {},
   "source": [
    "#### 1. Разморозка половины слоев"
   ]
  },
  {
   "cell_type": "code",
   "execution_count": 32,
   "metadata": {
    "execution": {
     "iopub.execute_input": "2022-03-06T10:27:07.347476Z",
     "iopub.status.busy": "2022-03-06T10:27:07.347166Z",
     "iopub.status.idle": "2022-03-06T10:27:07.352957Z",
     "shell.execute_reply": "2022-03-06T10:27:07.352207Z",
     "shell.execute_reply.started": "2022-03-06T10:27:07.347434Z"
    }
   },
   "outputs": [],
   "source": [
    "# Определим количество слоев в базовой модели\n",
    "len(base_model.layers)"
   ]
  },
  {
   "cell_type": "code",
   "execution_count": 33,
   "metadata": {
    "execution": {
     "iopub.execute_input": "2022-03-06T10:27:07.354796Z",
     "iopub.status.busy": "2022-03-06T10:27:07.354337Z",
     "iopub.status.idle": "2022-03-06T10:27:07.369668Z",
     "shell.execute_reply": "2022-03-06T10:27:07.368857Z",
     "shell.execute_reply.started": "2022-03-06T10:27:07.354752Z"
    }
   },
   "outputs": [],
   "source": [
    "# Укажем, что будем обучать базовую модель\n",
    "base_model.trainable = True\n",
    "\n",
    "for layer in base_model.layers[:65]:\n",
    "    layer.trainable = False"
   ]
  },
  {
   "cell_type": "code",
   "execution_count": 34,
   "metadata": {
    "execution": {
     "iopub.execute_input": "2022-03-06T10:27:07.371511Z",
     "iopub.status.busy": "2022-03-06T10:27:07.371205Z",
     "iopub.status.idle": "2022-03-06T10:27:07.382127Z",
     "shell.execute_reply": "2022-03-06T10:27:07.381201Z",
     "shell.execute_reply.started": "2022-03-06T10:27:07.371470Z"
    }
   },
   "outputs": [],
   "source": [
    "len(base_model.trainable_variables)"
   ]
  },
  {
   "cell_type": "code",
   "execution_count": 35,
   "metadata": {
    "execution": {
     "iopub.execute_input": "2022-03-06T10:27:07.384092Z",
     "iopub.status.busy": "2022-03-06T10:27:07.383751Z",
     "iopub.status.idle": "2022-03-06T10:27:07.400143Z",
     "shell.execute_reply": "2022-03-06T10:27:07.399231Z",
     "shell.execute_reply.started": "2022-03-06T10:27:07.384010Z"
    }
   },
   "outputs": [],
   "source": [
    "model.compile(loss=\"categorical_crossentropy\", optimizer = optimizers.Adam(learning_rate = LR), \n",
    "              metrics = 'accuracy')"
   ]
  },
  {
   "cell_type": "code",
   "execution_count": 36,
   "metadata": {
    "execution": {
     "iopub.execute_input": "2022-03-06T10:27:07.401851Z",
     "iopub.status.busy": "2022-03-06T10:27:07.401531Z",
     "iopub.status.idle": "2022-03-06T10:27:07.469269Z",
     "shell.execute_reply": "2022-03-06T10:27:07.468547Z",
     "shell.execute_reply.started": "2022-03-06T10:27:07.401793Z"
    }
   },
   "outputs": [],
   "source": [
    "model.summary()"
   ]
  },
  {
   "cell_type": "code",
   "execution_count": 37,
   "metadata": {
    "execution": {
     "iopub.execute_input": "2022-03-06T10:27:07.471204Z",
     "iopub.status.busy": "2022-03-06T10:27:07.470936Z",
     "iopub.status.idle": "2022-03-06T10:54:59.800233Z",
     "shell.execute_reply": "2022-03-06T10:54:59.799361Z",
     "shell.execute_reply.started": "2022-03-06T10:27:07.471170Z"
    }
   },
   "outputs": [],
   "source": [
    "history = model.fit(\n",
    "    train_generator, \n",
    "    steps_per_epoch = len(train_generator), \n",
    "    validation_data = test_generator, \n",
    "    validation_steps = len(test_generator), \n",
    "    epochs = EPOCHS, \n",
    "    callbacks = callbacks_list\n",
    ")"
   ]
  },
  {
   "cell_type": "code",
   "execution_count": 38,
   "metadata": {
    "execution": {
     "iopub.execute_input": "2022-03-06T10:54:59.801946Z",
     "iopub.status.busy": "2022-03-06T10:54:59.801680Z",
     "iopub.status.idle": "2022-03-06T10:55:00.775738Z",
     "shell.execute_reply": "2022-03-06T10:55:00.774987Z",
     "shell.execute_reply.started": "2022-03-06T10:54:59.801909Z"
    }
   },
   "outputs": [],
   "source": [
    "model.save('../working/model_last.hdf5')\n",
    "model.load_weights('best_model.hdf5')"
   ]
  },
  {
   "cell_type": "code",
   "execution_count": 39,
   "metadata": {
    "execution": {
     "iopub.execute_input": "2022-03-06T10:55:00.779130Z",
     "iopub.status.busy": "2022-03-06T10:55:00.778905Z",
     "iopub.status.idle": "2022-03-06T10:55:21.587364Z",
     "shell.execute_reply": "2022-03-06T10:55:21.585851Z",
     "shell.execute_reply.started": "2022-03-06T10:55:00.779103Z"
    }
   },
   "outputs": [],
   "source": [
    "scores = model.evaluate(test_generator, steps=len(test_generator), verbose=1)\n",
    "print(\"Accuracy: %.2f%%\" % (scores[1]*100))"
   ]
  },
  {
   "cell_type": "code",
   "execution_count": 40,
   "metadata": {
    "execution": {
     "iopub.execute_input": "2022-03-06T10:55:21.588986Z",
     "iopub.status.busy": "2022-03-06T10:55:21.588663Z",
     "iopub.status.idle": "2022-03-06T10:55:21.949561Z",
     "shell.execute_reply": "2022-03-06T10:55:21.948882Z",
     "shell.execute_reply.started": "2022-03-06T10:55:21.588947Z"
    }
   },
   "outputs": [],
   "source": [
    "acc = history.history['accuracy']\n",
    "val_acc = history.history['val_accuracy']\n",
    "loss = history.history['loss']\n",
    "val_loss = history.history['val_loss']\n",
    " \n",
    "epochs = range(len(acc))\n",
    " \n",
    "plt.plot(epochs, acc, 'b', label='Training acc')\n",
    "plt.plot(epochs, val_acc, 'r', label='Validation acc')\n",
    "plt.title('Training and validation accuracy')\n",
    "plt.legend()\n",
    " \n",
    "plt.figure()\n",
    " \n",
    "plt.plot(epochs, loss, 'b', label='Training loss')\n",
    "plt.plot(epochs, val_loss, 'r', label='Validation loss')\n",
    "plt.title('Training and validation loss')\n",
    "plt.legend()\n",
    " \n",
    "plt.show()"
   ]
  },
  {
   "cell_type": "markdown",
   "metadata": {},
   "source": [
    "#### Разморозим больше слоев"
   ]
  },
  {
   "cell_type": "code",
   "execution_count": 41,
   "metadata": {
    "execution": {
     "iopub.execute_input": "2022-03-06T10:55:21.953234Z",
     "iopub.status.busy": "2022-03-06T10:55:21.950805Z",
     "iopub.status.idle": "2022-03-06T10:55:21.965720Z",
     "shell.execute_reply": "2022-03-06T10:55:21.964784Z",
     "shell.execute_reply.started": "2022-03-06T10:55:21.953190Z"
    }
   },
   "outputs": [],
   "source": [
    "base_model.trainable = True\n",
    "\n",
    "for layer in base_model.layers[:30]:\n",
    "    layer.trainable = False\n",
    "    \n",
    "len(base_model.trainable_variables)    "
   ]
  },
  {
   "cell_type": "code",
   "execution_count": 42,
   "metadata": {
    "execution": {
     "iopub.execute_input": "2022-03-06T10:55:21.967891Z",
     "iopub.status.busy": "2022-03-06T10:55:21.967266Z",
     "iopub.status.idle": "2022-03-06T10:55:22.051072Z",
     "shell.execute_reply": "2022-03-06T10:55:22.050389Z",
     "shell.execute_reply.started": "2022-03-06T10:55:21.967848Z"
    }
   },
   "outputs": [],
   "source": [
    "model.compile(loss=\"categorical_crossentropy\", optimizer = optimizers.Adam(learning_rate = LR), \n",
    "              metrics = 'accuracy')\n",
    "model.summary()"
   ]
  },
  {
   "cell_type": "code",
   "execution_count": 43,
   "metadata": {
    "execution": {
     "iopub.execute_input": "2022-03-06T10:55:22.052721Z",
     "iopub.status.busy": "2022-03-06T10:55:22.052436Z",
     "iopub.status.idle": "2022-03-06T11:23:25.852831Z",
     "shell.execute_reply": "2022-03-06T11:23:25.852022Z",
     "shell.execute_reply.started": "2022-03-06T10:55:22.052643Z"
    }
   },
   "outputs": [],
   "source": [
    "history = model.fit(\n",
    "    train_generator, \n",
    "    steps_per_epoch = len(train_generator), \n",
    "    validation_data = test_generator, \n",
    "    validation_steps = len(test_generator), \n",
    "    epochs = EPOCHS, \n",
    "    callbacks = callbacks_list\n",
    ")"
   ]
  },
  {
   "cell_type": "code",
   "execution_count": 44,
   "metadata": {
    "execution": {
     "iopub.execute_input": "2022-03-06T11:23:25.854919Z",
     "iopub.status.busy": "2022-03-06T11:23:25.854657Z",
     "iopub.status.idle": "2022-03-06T11:23:26.987352Z",
     "shell.execute_reply": "2022-03-06T11:23:26.986578Z",
     "shell.execute_reply.started": "2022-03-06T11:23:25.854884Z"
    }
   },
   "outputs": [],
   "source": [
    "model.save('../working/model_last.hdf5')\n",
    "model.load_weights('best_model.hdf5')"
   ]
  },
  {
   "cell_type": "code",
   "execution_count": 45,
   "metadata": {
    "execution": {
     "iopub.execute_input": "2022-03-06T11:23:26.988714Z",
     "iopub.status.busy": "2022-03-06T11:23:26.988475Z",
     "iopub.status.idle": "2022-03-06T11:23:47.804468Z",
     "shell.execute_reply": "2022-03-06T11:23:47.803429Z",
     "shell.execute_reply.started": "2022-03-06T11:23:26.988680Z"
    }
   },
   "outputs": [],
   "source": [
    "scores = model.evaluate(test_generator, steps=len(test_generator), verbose=1)\n",
    "print(\"Accuracy: %.2f%%\" % (scores[1]*100))"
   ]
  },
  {
   "cell_type": "code",
   "execution_count": 46,
   "metadata": {
    "execution": {
     "iopub.execute_input": "2022-03-06T11:23:47.806384Z",
     "iopub.status.busy": "2022-03-06T11:23:47.806005Z",
     "iopub.status.idle": "2022-03-06T11:23:48.186679Z",
     "shell.execute_reply": "2022-03-06T11:23:48.185921Z",
     "shell.execute_reply.started": "2022-03-06T11:23:47.806342Z"
    }
   },
   "outputs": [],
   "source": [
    "acc = history.history['accuracy']\n",
    "val_acc = history.history['val_accuracy']\n",
    "loss = history.history['loss']\n",
    "val_loss = history.history['val_loss']\n",
    " \n",
    "epochs = range(len(acc))\n",
    " \n",
    "plt.plot(epochs, acc, 'b', label='Training acc')\n",
    "plt.plot(epochs, val_acc, 'r', label='Validation acc')\n",
    "plt.title('Training and validation accuracy')\n",
    "plt.legend()\n",
    " \n",
    "plt.figure()\n",
    " \n",
    "plt.plot(epochs, loss, 'b', label='Training loss')\n",
    "plt.plot(epochs, val_loss, 'r', label='Validation loss')\n",
    "plt.title('Training and validation loss')\n",
    "plt.legend()\n",
    " \n",
    "plt.show()"
   ]
  },
  {
   "cell_type": "markdown",
   "metadata": {},
   "source": [
    "#### Разморозим все слои"
   ]
  },
  {
   "cell_type": "code",
   "execution_count": 47,
   "metadata": {
    "execution": {
     "iopub.execute_input": "2022-03-06T11:23:48.188338Z",
     "iopub.status.busy": "2022-03-06T11:23:48.188067Z",
     "iopub.status.idle": "2022-03-06T11:23:48.196793Z",
     "shell.execute_reply": "2022-03-06T11:23:48.195762Z",
     "shell.execute_reply.started": "2022-03-06T11:23:48.188301Z"
    }
   },
   "outputs": [],
   "source": [
    "base_model.trainable = True\n"
   ]
  },
  {
   "cell_type": "code",
   "execution_count": 48,
   "metadata": {
    "execution": {
     "iopub.execute_input": "2022-03-06T11:23:48.198856Z",
     "iopub.status.busy": "2022-03-06T11:23:48.198472Z",
     "iopub.status.idle": "2022-03-06T11:23:48.225768Z",
     "shell.execute_reply": "2022-03-06T11:23:48.225156Z",
     "shell.execute_reply.started": "2022-03-06T11:23:48.198810Z"
    }
   },
   "outputs": [],
   "source": [
    "model.compile(loss=\"categorical_crossentropy\", optimizer = optimizers.Adam(learning_rate = LR), \n",
    "              metrics = 'accuracy')"
   ]
  },
  {
   "cell_type": "code",
   "execution_count": 49,
   "metadata": {
    "execution": {
     "iopub.execute_input": "2022-03-06T11:23:48.227325Z",
     "iopub.status.busy": "2022-03-06T11:23:48.227085Z",
     "iopub.status.idle": "2022-03-06T12:12:28.885583Z",
     "shell.execute_reply": "2022-03-06T12:12:28.884747Z",
     "shell.execute_reply.started": "2022-03-06T11:23:48.227292Z"
    }
   },
   "outputs": [],
   "source": [
    "history = model.fit(\n",
    "    train_generator, \n",
    "    steps_per_epoch = len(train_generator), \n",
    "    validation_data = test_generator, \n",
    "    validation_steps = len(test_generator), \n",
    "    epochs = 15, \n",
    "    callbacks = callbacks_list\n",
    ")"
   ]
  },
  {
   "cell_type": "code",
   "execution_count": 50,
   "metadata": {
    "execution": {
     "iopub.execute_input": "2022-03-06T12:12:28.887408Z",
     "iopub.status.busy": "2022-03-06T12:12:28.886892Z",
     "iopub.status.idle": "2022-03-06T12:12:30.228624Z",
     "shell.execute_reply": "2022-03-06T12:12:30.227889Z",
     "shell.execute_reply.started": "2022-03-06T12:12:28.887368Z"
    }
   },
   "outputs": [],
   "source": [
    "model.save('../working/model_last.hdf5')\n",
    "model.load_weights('best_model.hdf5')"
   ]
  },
  {
   "cell_type": "code",
   "execution_count": 51,
   "metadata": {
    "execution": {
     "iopub.execute_input": "2022-03-06T12:12:30.233290Z",
     "iopub.status.busy": "2022-03-06T12:12:30.232744Z",
     "iopub.status.idle": "2022-03-06T12:12:51.085175Z",
     "shell.execute_reply": "2022-03-06T12:12:51.084334Z",
     "shell.execute_reply.started": "2022-03-06T12:12:30.233245Z"
    }
   },
   "outputs": [],
   "source": [
    "scores = model.evaluate(test_generator, steps=len(test_generator), verbose=1)\n",
    "print(\"Accuracy: %.2f%%\" % (scores[1]*100))"
   ]
  },
  {
   "cell_type": "code",
   "execution_count": 52,
   "metadata": {
    "execution": {
     "iopub.execute_input": "2022-03-06T12:12:51.086919Z",
     "iopub.status.busy": "2022-03-06T12:12:51.086655Z",
     "iopub.status.idle": "2022-03-06T12:12:51.465576Z",
     "shell.execute_reply": "2022-03-06T12:12:51.464866Z",
     "shell.execute_reply.started": "2022-03-06T12:12:51.086882Z"
    }
   },
   "outputs": [],
   "source": [
    "acc = history.history['accuracy']\n",
    "val_acc = history.history['val_accuracy']\n",
    "loss = history.history['loss']\n",
    "val_loss = history.history['val_loss']\n",
    " \n",
    "epochs = range(len(acc))\n",
    " \n",
    "plt.plot(epochs, acc, 'b', label='Training acc')\n",
    "plt.plot(epochs, val_acc, 'r', label='Validation acc')\n",
    "plt.title('Training and validation accuracy')\n",
    "plt.legend()\n",
    " \n",
    "plt.figure()\n",
    " \n",
    "plt.plot(epochs, loss, 'b', label='Training loss')\n",
    "plt.plot(epochs, val_loss, 'r', label='Validation loss')\n",
    "plt.title('Training and validation loss')\n",
    "plt.legend()\n",
    " \n",
    "plt.show()"
   ]
  },
  {
   "cell_type": "markdown",
   "metadata": {},
   "source": [
    "# Предсказание на тестовых данных"
   ]
  },
  {
   "cell_type": "code",
   "execution_count": 53,
   "metadata": {
    "execution": {
     "iopub.execute_input": "2022-03-06T12:12:51.467140Z",
     "iopub.status.busy": "2022-03-06T12:12:51.466876Z",
     "iopub.status.idle": "2022-03-06T12:12:51.475334Z",
     "shell.execute_reply": "2022-03-06T12:12:51.474496Z",
     "shell.execute_reply.started": "2022-03-06T12:12:51.467105Z"
    }
   },
   "outputs": [],
   "source": [
    "test_sub_generator.samples"
   ]
  },
  {
   "cell_type": "code",
   "execution_count": 54,
   "metadata": {
    "execution": {
     "iopub.execute_input": "2022-03-06T12:12:51.477070Z",
     "iopub.status.busy": "2022-03-06T12:12:51.476709Z",
     "iopub.status.idle": "2022-03-06T12:13:33.039921Z",
     "shell.execute_reply": "2022-03-06T12:13:33.039221Z",
     "shell.execute_reply.started": "2022-03-06T12:12:51.477011Z"
    }
   },
   "outputs": [],
   "source": [
    "test_sub_generator.reset()\n",
    "predictions = model.predict_generator(test_sub_generator, steps=len(test_sub_generator), verbose=1) \n",
    "predictions = np.argmax(predictions, axis=-1) #multiple categories\n",
    "label_map = (train_generator.class_indices)\n",
    "label_map = dict((v,k) for k,v in label_map.items()) #flip k,v\n",
    "predictions = [label_map[k] for k in predictions]"
   ]
  },
  {
   "cell_type": "code",
   "execution_count": 55,
   "metadata": {
    "execution": {
     "iopub.execute_input": "2022-03-06T12:13:33.043733Z",
     "iopub.status.busy": "2022-03-06T12:13:33.042593Z",
     "iopub.status.idle": "2022-03-06T12:13:33.068454Z",
     "shell.execute_reply": "2022-03-06T12:13:33.067713Z",
     "shell.execute_reply.started": "2022-03-06T12:13:33.043688Z"
    }
   },
   "outputs": [],
   "source": [
    "filenames_with_dir=test_sub_generator.filenames\n",
    "submission = pd.DataFrame({'Id':filenames_with_dir, 'Category':predictions}, columns=['Id', 'Category'])\n",
    "submission['Id'] = submission['Id'].replace('test_upload/','')\n",
    "submission.to_csv('submission.csv', index=False)\n",
    "print('Save submit')\n",
    "\n",
    "# Рекомендация: попробуйте добавить Test Time Augmentation (TTA)\n",
    "# https://towardsdatascience.com/test-time-augmentation-tta-and-how-to-perform-it-with-keras-4ac19b67fb4d"
   ]
  },
  {
   "cell_type": "code",
   "execution_count": 56,
   "metadata": {
    "execution": {
     "iopub.execute_input": "2022-03-06T12:13:33.069982Z",
     "iopub.status.busy": "2022-03-06T12:13:33.069728Z",
     "iopub.status.idle": "2022-03-06T12:13:33.080576Z",
     "shell.execute_reply": "2022-03-06T12:13:33.079723Z",
     "shell.execute_reply.started": "2022-03-06T12:13:33.069947Z"
    }
   },
   "outputs": [],
   "source": [
    "submission.head()"
   ]
  },
  {
   "cell_type": "code",
   "execution_count": 57,
   "metadata": {
    "_kg_hide-input": true,
    "execution": {
     "iopub.execute_input": "2022-03-06T12:13:33.082493Z",
     "iopub.status.busy": "2022-03-06T12:13:33.081930Z",
     "iopub.status.idle": "2022-03-06T12:13:33.861510Z",
     "shell.execute_reply": "2022-03-06T12:13:33.860496Z",
     "shell.execute_reply.started": "2022-03-06T12:13:33.082454Z"
    }
   },
   "outputs": [],
   "source": [
    "# Clean PATH\n",
    "import shutil\n",
    "shutil.rmtree(PATH)"
   ]
  },
  {
   "cell_type": "code",
   "execution_count": null,
   "metadata": {},
   "outputs": [],
   "source": []
  }
 ],
 "metadata": {
  "kernelspec": {
   "display_name": "Python 3",
   "language": "python",
   "name": "python3"
  },
  "language_info": {
   "codemirror_mode": {
    "name": "ipython",
    "version": 3
   },
   "file_extension": ".py",
   "mimetype": "text/x-python",
   "name": "python",
   "nbconvert_exporter": "python",
   "pygments_lexer": "ipython3",
   "version": "3.8.8"
  }
 },
 "nbformat": 4,
 "nbformat_minor": 4
}
